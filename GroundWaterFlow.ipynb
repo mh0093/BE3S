{
 "cells": [
  {
   "cell_type": "code",
   "execution_count": null,
   "metadata": {
    "collapsed": true
   },
   "outputs": [],
   "source": [
    "import import_ipynb"
   ]
  },
  {
   "cell_type": "code",
   "execution_count": null,
   "metadata": {
    "collapsed": true
   },
   "outputs": [],
   "source": [
    "from SoilWaterFlow import *\n",
    "import Conversion as conv\n",
    "import DistanceMap as dis\n",
    "import ChannelFlow as chn"
   ]
  },
  {
   "cell_type": "code",
   "execution_count": null,
   "metadata": {
    "collapsed": true
   },
   "outputs": [],
   "source": [
    "import numpy as np\n",
    "import pandas as pd\n",
    "import matplotlib.pyplot as plt\n",
    "import math as mt"
   ]
  },
  {
   "cell_type": "code",
   "execution_count": null,
   "metadata": {
    "collapsed": true
   },
   "outputs": [],
   "source": [
    "max_GWnrIterations = 2\n",
    "tolerance = 0.01 \n",
    "mag_factor = 5\n",
    "\n",
    "## Aquifer parameters\n",
    "Ne = 0.0557533 ## Unit: m3/m3 (Effective porosity, Specific yield)\n",
    "Ks = 8.411E-04 ## Unit should be m/s (note, the unit of Ks in soil is kgs/m3)\n",
    "\n",
    "## Experimental variable\n",
    "dist_to_zeroBC = 4\n",
    "\n",
    "Kr = Ks * 3600 ## River bottom sediment conductivity, m/hr\n",
    "Mr = (dis.resolution / mag_factor) # River bottom sediment thickness, m\n",
    "\n",
    "Cat_grid_size = dis.resolution # Catchment grid size (unit: m)\n",
    "Qlateral = np.zeros(10000)\n",
    "Wp = np.zeros(10000)"
   ]
  },
  {
   "cell_type": "code",
   "execution_count": null,
   "metadata": {
    "collapsed": true
   },
   "outputs": [],
   "source": [
    "## Varied-in-space Ksat \n",
    "# Ks = pd.read_csv('Data/Ks-experiment.csv', header=0, parse_dates=[0], index_col=0)"
   ]
  },
  {
   "cell_type": "code",
   "execution_count": null,
   "metadata": {
    "collapsed": true
   },
   "outputs": [],
   "source": [
    "def WT_Dynamics(GWL_head, Averaged_SH, tmax, xmax, WT_initial, FrameNumber):\n",
    "    \n",
    "    ## Courant number= a(dt/dx)\n",
    "    dt = tmax\n",
    "    dx = Cat_grid_size / mag_factor ## dx: 50 m     \n",
    "\n",
    "    h = np.zeros(xmax*mag_factor)\n",
    "    x = np.zeros(xmax*mag_factor)    \n",
    "\n",
    "    ## Initializing GWL \n",
    "    GW_sum0 = 0\n",
    "    if FrameNumber <= 1 :\n",
    "        for i in range(1, xmax*mag_factor):\n",
    "            if i < (xmax*mag_factor)-mag_factor:\n",
    "                h[i] = WT_initial\n",
    "            elif i >= (xmax*mag_factor)-mag_factor:\n",
    "                h[i] = WT_initial \n",
    "            GW_sum0 += (h[i] * pow(dx, 2)) * Ne     \n",
    "    \n",
    "    elif FrameNumber > 1:\n",
    "        for i in range(1, xmax*mag_factor):\n",
    "            if i < (xmax*mag_factor)-mag_factor:\n",
    "                h[i] = GWL_head[mt.ceil(i/mag_factor)]\n",
    "            elif i >= (xmax*mag_factor)-mag_factor:\n",
    "                h[i] = GWL_head[mt.ceil(i/mag_factor)-1] \n",
    "            GW_sum0 += (h[i] * pow(dx, 2)) * Ne \n",
    "    \n",
    "    ## Wetted perimeter according to (averaged) river stage (unit: m)\n",
    "#     Wp[FrameNumber] = ((chn.Bw + 2 * pow((pow(Averaged_SH, 2) + pow(chn.z, 2)), 0.5)) / 2.0)\n",
    "    Wp[FrameNumber] = ((chn.Bw + 2 * Averaged_SH) / 2.0)\n",
    "#     Wp[FrameNumber] = Averaged_SH\n",
    "\n",
    "    ## Time-dependent river stage boundary condition    \n",
    "    h[0] = Averaged_SH\n",
    "#     ## Constant head B.C. \n",
    "#     h[xmax*mag_factor-1, :] = 10.0\n",
    "\n",
    "    GW_massbalance = GW_sum0\n",
    "    GW_nrIteration = 0\n",
    "\n",
    "    while ((GW_massbalance > (GW_sum0 * tolerance)) and (GW_nrIteration < max_GWnrIterations)):\n",
    "        for i in range(1, xmax*mag_factor-1):\n",
    "            ## Constant-in-space Ks\n",
    "            h[i] = (dt / dx) * (Ks / Ne) * (h[i] * ((h[i+1] - h[i]) / dx)\\\n",
    "                                                              - h[i-1] * ((h[i] -\\\n",
    "                                                                h[i-1]) / dx)) + h[i]         \n",
    "        \n",
    "#         ## Zero flux river stage boundary condition - No Flow between SW and GW  \n",
    "#         h[0, t+1] = h[1, t+1] \n",
    "        ## Zero flux boundary condition - the edge of watershed\n",
    "        h[xmax*mag_factor-1] = h[xmax*mag_factor-2] \n",
    "\n",
    "        GW_newSum = 0\n",
    "        for i in range(1, xmax*mag_factor):\n",
    "            GW_newSum += (h[i] * pow(dx, 2)) * Ne \n",
    "            \n",
    "        ## Unlike Soil, GW_newSum = m3, GW_sum0 = m3,  = kg\n",
    "        GW_massbalance = abs(GW_newSum - (GW_sum0 -\\\n",
    "                                          (-Kr * (Wp[FrameNumber] * Cat_grid_size) * (h[0] - h[1]) * (1 / Mr))))\n",
    "        GW_nrIteration += 1  \n",
    "  \n",
    "    #in case: (xmax * mag_factor-1) = dist_to_zeroBC\n",
    "#     while ((GW_massbalance > (GW_sum0 * tolerance)) and (GW_nrIteration < max_GWnrIterations)):\n",
    "#         for i in range(1, dist_to_zeroBC):\n",
    "#             ## Constant-in-space Ks\n",
    "#             h[i] = (dt / dx) * (Ks / Ne) * (h[i] * ((h[i+1] - h[i]) / dx)\\\n",
    "#                                                               - h[i-1] * ((h[i] -\\\n",
    "#                                                                 h[i-1]) / dx)) + h[i]         \n",
    "        \n",
    "# #         ## Zero flux river stage boundary condition - No Flow between SW and GW  \n",
    "# #         h[0, t+1] = h[1, t+1] \n",
    "#         ## Zero flux boundary condition - the edge of watershed\n",
    "#         h[dist_to_zeroBC] = h[dist_to_zeroBC-1] \n",
    "\n",
    "#         GW_newSum = 0\n",
    "#         for i in range(1, xmax*mag_factor):\n",
    "#             GW_newSum += (h[i] * pow(dx, 2)) * Ne \n",
    "            \n",
    "#         ## Unlike Soil, GW_newSum = m3, GW_sum0 = m3,  = kg\n",
    "#         GW_massbalance = abs(GW_newSum - (GW_sum0 -\\\n",
    "#                                           (-Kr * (Wp[FrameNumber] * Cat_grid_size) * (h[0] - h[1]) * (1 / Mr))))\n",
    "#         GW_nrIteration += 1  \n",
    "    \n",
    "    ## Lateral drainage\n",
    "    if (GW_massbalance < tolerance):\n",
    "\n",
    "        if h[1] > (-Mr):\n",
    "            Qlateral[FrameNumber] = (-Kr * (Wp[FrameNumber] * Cat_grid_size)\\\n",
    "                                     * (h[0] - h[1]) * (1 / Mr))  \n",
    "            \n",
    "        elif h[1] <= (-Mr):\n",
    "            Qlateral[FrameNumber] = (-Kr * (Wp[FrameNumber] * Cat_grid_size) * ((Averaged_SH - (-Mr)) / Mr)) \n",
    "        \n",
    "        return h[:], x, Qlateral\n",
    "    \n",
    "    elif (GW_massbalance >= tolerance):\n",
    "\n",
    "        if h[1] > (-Mr):\n",
    "            Qlateral[FrameNumber] = (-Kr * (Wp[FrameNumber] * Cat_grid_size)\\\n",
    "                                     * (h[0] - h[1]) * (1 / Mr))  \n",
    "            \n",
    "        elif h[1] <= (-Mr):\n",
    "            Qlateral[FrameNumber] = (-Kr * (Wp[FrameNumber] * Cat_grid_size) * ((Averaged_SH - (-Mr)) / Mr)) \n",
    "        \n",
    "        return h[:], x, Qlateral"
   ]
  }
 ],
 "metadata": {
  "kernelspec": {
   "display_name": "Python 3 (ipykernel)",
   "language": "python",
   "name": "python3"
  },
  "language_info": {
   "codemirror_mode": {
    "name": "ipython",
    "version": 3
   },
   "file_extension": ".py",
   "mimetype": "text/x-python",
   "name": "python",
   "nbconvert_exporter": "python",
   "pygments_lexer": "ipython3",
   "version": "3.9.13"
  }
 },
 "nbformat": 4,
 "nbformat_minor": 2
}
