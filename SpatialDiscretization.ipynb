{
 "cells": [
  {
   "cell_type": "code",
   "execution_count": null,
   "metadata": {
    "collapsed": true
   },
   "outputs": [],
   "source": [
    "import import_ipynb"
   ]
  },
  {
   "cell_type": "code",
   "execution_count": null,
   "metadata": {},
   "outputs": [],
   "source": [
    "import DistanceMap as dis"
   ]
  },
  {
   "cell_type": "code",
   "execution_count": null,
   "metadata": {
    "collapsed": true
   },
   "outputs": [],
   "source": [
    "from __future__ import division\n",
    "import numpy as np\n",
    "\n",
    "def linear(Cat, Cat_grid, n, depth):\n",
    "    z = np.zeros((len(dis.Cat_indi), int(max(dis.Cat_grid_num)), int(dis.dem.max())))  \n",
    "    dz = depth / n\n",
    "    \n",
    "    z[Cat][Cat_grid][0] = 0\n",
    "    z[Cat][Cat_grid][1] = 0\n",
    "    for i in range(1, n+1):\n",
    "        z[Cat][Cat_grid][i + 1] = z[Cat][Cat_grid][i] + dz\n",
    "    \n",
    "    return z\n",
    "\n",
    "def geometric(n, depth):\n",
    "    z = np.zeros(n+2, float)  \n",
    "    mySum = 0.0\n",
    "    for i in range(1, n+1):\n",
    "        mySum = mySum + i * i\n",
    "    dz = depth / mySum\n",
    "    z[0] = 0.0\n",
    "    z[1] = 0.0\n",
    "    for i in range(1, n+1):\n",
    "        z[i + 1] = z[i] + dz * i * i\n",
    "    \n",
    "    return z"
   ]
  }
 ],
 "metadata": {
  "kernelspec": {
   "display_name": "Python 3",
   "language": "python",
   "name": "python3"
  },
  "language_info": {
   "codemirror_mode": {
    "name": "ipython",
    "version": 3
   },
   "file_extension": ".py",
   "mimetype": "text/x-python",
   "name": "python",
   "nbconvert_exporter": "python",
   "pygments_lexer": "ipython3",
   "version": "3.7.0"
  }
 },
 "nbformat": 4,
 "nbformat_minor": 2
}
