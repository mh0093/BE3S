{
 "cells": [
  {
   "cell_type": "code",
   "execution_count": 441,
   "metadata": {
    "collapsed": true
   },
   "outputs": [],
   "source": [
    "import numpy as np\n",
    "import math\n",
    "from astropy.io import ascii"
   ]
  },
  {
   "cell_type": "code",
   "execution_count": 1,
   "metadata": {
    "collapsed": true
   },
   "outputs": [],
   "source": [
    "import csv\n",
    "import numpy as np\n",
    "                \n",
    "def scanDataFile(file, delimiter):\n",
    "    reader = csv.reader(open(file, \"rt\"), delimiter=delimiter)\n",
    "    nrRows = 0\n",
    "    for row in reader:\n",
    "        if (nrRows == 0): \n",
    "            nrCols = len(row) \n",
    "        else:\n",
    "            if (len(row) != nrCols): \n",
    "                #wrong file: nr of fields not coherent\n",
    "                return (nrRows, nrCols, False)\n",
    "        nrRows += 1\n",
    "    return (nrRows, nrCols, True)"
   ]
  },
  {
   "cell_type": "code",
   "execution_count": 2,
   "metadata": {
    "collapsed": true
   },
   "outputs": [],
   "source": [
    "# multi-columns or single row data (only numeric)                \n",
    "\n",
    "def readDataFile(file, nrHeaderFields, delimiter, isPrintScreen):\n",
    "    nrRows, nrCols, isFileOk = scanDataFile(file, delimiter)\n",
    "    if (isFileOk == False): return (nrRows, False)\n",
    "    \n",
    "    if (nrRows == 1):\n",
    "        A = np.zeros((nrRows, nrCols-nrHeaderFields))\n",
    "    else:\n",
    "        A = np.zeros((nrRows-nrHeaderFields, nrCols))\n",
    "        \n",
    "    reader = csv.reader(open(file, \"r\"), delimiter=delimiter)\n",
    "    i = 0    \n",
    "    for row in reader:\n",
    "        if (isPrintScreen): print(row)\n",
    "        if (nrRows == 1):\n",
    "            #single row\n",
    "            for j in range(nrHeaderFields, len(row)):\n",
    "                A[i, j-nrHeaderFields] = float(row[j])\n",
    "        else:\n",
    "            #multi-columns\n",
    "            if (i >= nrHeaderFields):\n",
    "                for j in range(0, len(row)):\n",
    "                    A[(i-nrHeaderFields), j] = float(row[j])\n",
    "        i += 1 \n",
    "          \n",
    "    return(A, True)"
   ]
  },
  {
   "cell_type": "code",
   "execution_count": 3,
   "metadata": {
    "collapsed": true
   },
   "outputs": [],
   "source": [
    "# multi-columns generic data (text, date, etc.)\n",
    "def readGenericDataFile(file, nrHeaderRows, delimiter, isPrintScreen):\n",
    "    nrRows, nrCols, isFileOK = scanDataFile(file, delimiter)\n",
    "    if (isPrintScreen): print ('nrRows =', nrRows, ' nrCols =', nrCols)\n",
    "    \n",
    "    if (isFileOK == False): return (nrRows, False)\n",
    "    myReader = csv.reader(open(file, \"rt\"), delimiter=delimiter)\n",
    "    \n",
    "    A = []\n",
    "    i = 0\n",
    "    for myRow in myReader:\n",
    "        if (isPrintScreen): print(myRow)\n",
    "        if (i >= nrHeaderRows):\n",
    "            A.append(myRow)\n",
    "        i += 1     \n",
    "    return(A, True)"
   ]
  }
 ],
 "metadata": {
  "kernelspec": {
   "display_name": "Python 3",
   "language": "python",
   "name": "python3"
  },
  "language_info": {
   "codemirror_mode": {
    "name": "ipython",
    "version": 3
   },
   "file_extension": ".py",
   "mimetype": "text/x-python",
   "name": "python",
   "nbconvert_exporter": "python",
   "pygments_lexer": "ipython3",
   "version": "3.6.3"
  }
 },
 "nbformat": 4,
 "nbformat_minor": 2
}
