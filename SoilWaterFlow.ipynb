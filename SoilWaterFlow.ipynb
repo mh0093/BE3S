{
 "cells": [
  {
   "cell_type": "code",
   "execution_count": null,
   "metadata": {
    "collapsed": true
   },
   "outputs": [],
   "source": [
    "import import_ipynb"
   ]
  },
  {
   "cell_type": "code",
   "execution_count": null,
   "metadata": {
    "collapsed": true
   },
   "outputs": [],
   "source": [
    "from Solver import ThomasBoundaryCondition\n",
    "from Conversion import *\n",
    "import DistanceMap as dis\n",
    "import SpatialDiscretization as grid\n",
    "import numpy as np\n",
    "import pandas as pd"
   ]
  },
  {
   "cell_type": "code",
   "execution_count": null,
   "metadata": {
    "collapsed": true
   },
   "outputs": [],
   "source": [
    "## Constant parameters\n",
    "g = 9.8065 # Unit m/s2                \n",
    "waterDensity = 1000.0 # Unit kg/m3    \n",
    "area = pow(dis.resolution, 2)\n",
    "maxNrIterations = 10000\n",
    "tolerance = 0.0001"
   ]
  },
  {
   "cell_type": "code",
   "execution_count": null,
   "metadata": {
    "collapsed": true
   },
   "outputs": [],
   "source": [
    "hor = np.zeros((len(dis.Cat_indi), int(max(dis.Cat_grid_num)), int(dis.dem.max())))   \n",
    "vol = np.zeros((len(dis.Cat_indi), int(max(dis.Cat_grid_num)), int(dis.dem.max())))    \n",
    "a = np.zeros((len(dis.Cat_indi), int(max(dis.Cat_grid_num)), int(dis.dem.max())))       \n",
    "b = np.zeros((len(dis.Cat_indi), int(max(dis.Cat_grid_num)), int(dis.dem.max())))      \n",
    "c = np.zeros((len(dis.Cat_indi), int(max(dis.Cat_grid_num)), int(dis.dem.max())))      \n",
    "d = np.zeros((len(dis.Cat_indi), int(max(dis.Cat_grid_num)), int(dis.dem.max())))      \n",
    "psi = np.zeros((len(dis.Cat_indi), int(max(dis.Cat_grid_num)), int(dis.dem.max())))\n",
    "dpsi = np.zeros((len(dis.Cat_indi), int(max(dis.Cat_grid_num)), int(dis.dem.max())))\n",
    "theta = np.zeros((len(dis.Cat_indi), int(max(dis.Cat_grid_num)), int(dis.dem.max())))  \n",
    "oldTheta = np.zeros((len(dis.Cat_indi), int(max(dis.Cat_grid_num)), int(dis.dem.max())))  \n",
    "C = np.zeros((len(dis.Cat_indi), int(max(dis.Cat_grid_num)), int(dis.dem.max())))\n",
    "k = np.zeros((len(dis.Cat_indi), int(max(dis.Cat_grid_num)), int(dis.dem.max())))    \n",
    "u = np.zeros((len(dis.Cat_indi), int(max(dis.Cat_grid_num)), int(dis.dem.max())))       \n",
    "du = np.zeros((len(dis.Cat_indi), int(max(dis.Cat_grid_num)), int(dis.dem.max())))     \n",
    "f = np.zeros((len(dis.Cat_indi), int(max(dis.Cat_grid_num)), int(dis.dem.max())))    \n",
    "H = np.zeros((len(dis.Cat_indi), int(max(dis.Cat_grid_num)), int(dis.dem.max())))       \n",
    "H0 = np.zeros((len(dis.Cat_indi), int(max(dis.Cat_grid_num)), int(dis.dem.max()))) \n",
    "z = np.zeros((len(dis.Cat_indi), int(max(dis.Cat_grid_num)), int(dis.dem.max())))  \n",
    "dz = np.zeros((len(dis.Cat_indi), int(max(dis.Cat_grid_num)), int(dis.dem.max())))  \n",
    "zCenter = np.zeros((len(dis.Cat_indi), int(max(dis.Cat_grid_num)), int(dis.dem.max())))  \n",
    "SoilLayer_initial = np.zeros((len(dis.Cat_indi), int(max(dis.Cat_grid_num))))  "
   ]
  },
  {
   "cell_type": "code",
   "execution_count": null,
   "metadata": {
    "collapsed": true
   },
   "outputs": [],
   "source": [
    "# Psi = pd.read_csv('Data/SSPH_forcing_VtiltCatchment_SCL.csv', header=0, parse_dates=[0], index_col=0)"
   ]
  },
  {
   "cell_type": "code",
   "execution_count": null,
   "metadata": {
    "collapsed": true
   },
   "outputs": [],
   "source": [
    "def initialization(Cat, Cat_grid, Soil, Se_init, soildepth, SoilGrid_height): \n",
    "\n",
    "    SoilLayer_initial[Cat][Cat_grid] = round(soildepth / SoilGrid_height)\n",
    "\n",
    "    ## z: the location of nodes\n",
    "    z = grid.linear(Cat, Cat_grid, int(SoilLayer_initial[Cat][Cat_grid]), soildepth)\n",
    "    \n",
    "    vol[Cat][Cat_grid][0] = 0.0\n",
    "    for i in range(int(SoilLayer_initial[Cat][Cat_grid])+1): \n",
    "        dz[Cat][Cat_grid][i] = z[Cat][Cat_grid][i+1]-z[Cat][Cat_grid][i] \n",
    "        if (i > 0): vol[Cat][Cat_grid][i] = area * dz[Cat][Cat_grid][i]\n",
    "\n",
    "    for i in range(int(SoilLayer_initial[Cat][Cat_grid])+2): \n",
    "        zCenter[Cat][Cat_grid][i] = z[Cat][Cat_grid][i] + dz[Cat][Cat_grid][i] * 0.5\n",
    "        \n",
    "    for i in range(int(SoilLayer_initial[Cat][Cat_grid])+1):\n",
    "        dz[Cat][Cat_grid][i] = zCenter[Cat][Cat_grid][i+1] - zCenter[Cat][Cat_grid][i]\n",
    "\n",
    "    # Initialization\n",
    "    for i in range(1, int(SoilLayer_initial[Cat][Cat_grid])+2):\n",
    "        hor[Cat][Cat_grid][i] = getHorizonIndex(Soil, zCenter[Cat][Cat_grid][i])\n",
    "        theta[Cat][Cat_grid][i] = thetaFromSe(Soil[int(hor[Cat][Cat_grid][i])], Se_init) # determination of theta of each soil layer\n",
    "        ## psi unit = kPa\n",
    "        psi[Cat][Cat_grid][i] = waterPotential(Soil[int(hor[Cat][Cat_grid][i])], theta[Cat][Cat_grid][i]) # psi is matric potential (matric suction head) and also can be assumed as total soil water potential in head unit\n",
    "        \n",
    "        if i <= int(SoilLayer_initial[Cat][Cat_grid]):\n",
    "            H[Cat][Cat_grid][i] = psi[Cat][Cat_grid][i] - (zCenter[Cat][Cat_grid][i] * g) # H is total head (unit= J/kg)\n",
    "        \n",
    "        elif i == int(SoilLayer_initial[Cat][Cat_grid])+1:\n",
    "            ## Constant pressure head - Lower (GWT: zero matric potential) \n",
    "            Lower_BC = -2.6 ## Unit: kPa\n",
    "            psi[Cat][Cat_grid][i] = Lower_BC * 1000 / waterDensity ## Unit: kPa\n",
    "            theta[Cat][Cat_grid][i] = thetaFromPsi(Soil[int(hor[Cat][Cat_grid][i])], psi[Cat][Cat_grid][i])\n",
    "            ## zCenter[i] * g = m2/s2 = J/kg\n",
    "            H[Cat][Cat_grid][i] = psi[Cat][Cat_grid][i] - (zCenter[Cat][Cat_grid][i] * g)\n",
    "            \n",
    "    return SoilLayer_initial[Cat][Cat_grid]"
   ]
  },
  {
   "cell_type": "code",
   "execution_count": null,
   "metadata": {
    "collapsed": true
   },
   "outputs": [],
   "source": [
    "def Updating_depth(Cat, Cat_grid, Soil, Time_varying_depth, SoilLayer_num):\n",
    "                \n",
    "    z = grid.linear(Cat, Cat_grid, int(SoilLayer_num), Time_varying_depth)\n",
    "\n",
    "    vol[Cat][Cat_grid][0] = 0.0\n",
    "    for i in range(int(SoilLayer_num)+1): \n",
    "        dz[Cat][Cat_grid][i] = z[Cat][Cat_grid][i+1] - z[Cat][Cat_grid][i] # uniform spacing\n",
    "        if (i > 0): vol[Cat][Cat_grid][i] = area * dz[Cat][Cat_grid][i]\n",
    "\n",
    "    for i in range(int(SoilLayer_num)+2): \n",
    "        zCenter[Cat][Cat_grid][i] = z[Cat][Cat_grid][i] + dz[Cat][Cat_grid][i] * 0.5\n",
    "    \n",
    "    for i in range(int(SoilLayer_num)+1):\n",
    "        dz[Cat][Cat_grid][i] = zCenter[Cat][Cat_grid][i+1] - zCenter[Cat][Cat_grid][i]"
   ]
  },
  {
   "cell_type": "code",
   "execution_count": null,
   "metadata": {
    "collapsed": true
   },
   "outputs": [],
   "source": [
    "def infiltration_by_FVM(Cat, Cat_grid, Soil, dt, meanType, FrameNumber, SoilLayer_num): \n",
    "    \n",
    "    nt_soil = 1\n",
    "    maxTimestep = dt ## dt: 3600 s\n",
    "    dt_soil = maxTimestep / nt_soil\n",
    "    \n",
    "#     # Time-dependent SSPH upper soil column boundary condition\n",
    "#     psi[Cat][Cat_grid][0] = Psi['Psi_init'][int(FrameNumber)+1] ## Unit: kPa \n",
    "\n",
    "    ## Constant SSPH upper soil column boundary condition \n",
    "    Upper_BC = -100.0 ## Unit: kPa\n",
    "    psi[Cat][Cat_grid][0] = Upper_BC * 1000 / waterDensity ## Unit: m2/s2 (kPa)\n",
    "    \n",
    "    theta[Cat][Cat_grid][0] = thetaFromPsi(Soil[0], psi[Cat][Cat_grid][0])\n",
    "    theta[Cat][Cat_grid][1] = theta[Cat][Cat_grid][0]\n",
    "    psi[Cat][Cat_grid][1] = psi[Cat][Cat_grid][0]\n",
    "\n",
    "    ## Initial Condition (I.C)\n",
    "    sum0 = 0\n",
    "    for i in range(1, int(SoilLayer_num)+2):\n",
    "        if i <= int(SoilLayer_num):\n",
    "            H0[Cat][Cat_grid][i] = psi[Cat][Cat_grid][i] - zCenter[Cat][Cat_grid][i] * g\n",
    "        elif i == int(SoilLayer_num)+1:\n",
    "            H0[Cat][Cat_grid][i] = waterPotential(Soil[int(hor[Cat][Cat_grid][int(SoilLayer_num)+1])],\\\n",
    "                                                  thetaFromSe(Soil[int(hor[Cat][Cat_grid][int(SoilLayer_num)+1])], 1.0))\\\n",
    "                                                - zCenter[Cat][Cat_grid][i] * g\n",
    "        H[Cat][Cat_grid][i] = H0[Cat][Cat_grid][i]\n",
    "        if i <= int(SoilLayer_num):\n",
    "            sum0 += waterDensity * vol[Cat][Cat_grid][i] * theta[Cat][Cat_grid][i] \n",
    "    \n",
    "    massBalance = sum0    \n",
    "    \n",
    "    nrIterations = 0\n",
    "    while ((massBalance > tolerance) and (nrIterations < maxNrIterations)):\n",
    "\n",
    "        for i in range(1, int(SoilLayer_num)+1):\n",
    "            k[Cat][Cat_grid][i] = hydraulicConductivityFromTheta(Soil[int(hor[Cat][Cat_grid][i])], theta[Cat][Cat_grid][i])\n",
    "            capacity = dTheta_dH(Soil[int(hor[Cat][Cat_grid][i])], H0[Cat][Cat_grid][i], H[Cat][Cat_grid][i], zCenter[Cat][Cat_grid][i])\n",
    "            C[Cat][Cat_grid][i] = (waterDensity * vol[Cat][Cat_grid][i] * capacity) / (dt_soil)\n",
    "            \n",
    "            if i <= int(SoilLayer_num)-1:\n",
    "                f[Cat][Cat_grid][i] = area * meanK(meanType, k[Cat][Cat_grid][i], k[Cat][Cat_grid][i+1]) / dz[Cat][Cat_grid][i]\n",
    "        \n",
    "        f[Cat][Cat_grid][0] = 0.0\n",
    "        ## meank unit: kg*s/m3 kg per unit volume per second\n",
    "        f[Cat][Cat_grid][int(SoilLayer_num)] = area * meanK(meanType, k[Cat][Cat_grid][int(SoilLayer_num)],\\\n",
    "                                                       hydraulicConductivityFromTheta(Soil[int(hor[Cat][Cat_grid][int(SoilLayer_num)+1])],\\\n",
    "                                                        thetaFromPsi(Soil[int(hor[Cat][Cat_grid][int(SoilLayer_num)+1])],\\\n",
    "                                                        psi[Cat][Cat_grid][int(SoilLayer_num)+1]))) / dz[Cat][Cat_grid][int(SoilLayer_num)]            \n",
    "        \n",
    "       \n",
    "        for i in range(1, int(SoilLayer_num)+1):    \n",
    "            \n",
    "            a[Cat][Cat_grid][i] = -f[Cat][Cat_grid][i-1]\n",
    "            if (i == 1):\n",
    "                b[Cat][Cat_grid][i] = 1\n",
    "                c[Cat][Cat_grid][i] = 0\n",
    "                d[Cat][Cat_grid][i] = H0[Cat][Cat_grid][i] # point where Upper B.C is applied \n",
    "            elif (i < int(SoilLayer_num)):\n",
    "                b[Cat][Cat_grid][i] = C[Cat][Cat_grid][i] + f[Cat][Cat_grid][i-1] + f[Cat][Cat_grid][i]\n",
    "                c[Cat][Cat_grid][i] = -f[Cat][Cat_grid][i]\n",
    "                d[Cat][Cat_grid][i] = C[Cat][Cat_grid][i] * H0[Cat][Cat_grid][i]\n",
    "            elif (i == int(SoilLayer_num)):\n",
    "                b[Cat][Cat_grid][i] = C[Cat][Cat_grid][i] + f[Cat][Cat_grid][i-1]\n",
    "                c[Cat][Cat_grid][i] = 0\n",
    "                d[Cat][Cat_grid][i] = C[Cat][Cat_grid][i] * H0[Cat][Cat_grid][i] - f[Cat][Cat_grid][i] *\\\n",
    "                (H[Cat][Cat_grid][i] - H[Cat][Cat_grid][i+1])\n",
    "        \n",
    "        ThomasBoundaryCondition(a[Cat, Cat_grid, :], b[Cat, Cat_grid, :], c[Cat, Cat_grid, :], d[Cat, Cat_grid, :],\\\n",
    "                                H[Cat, Cat_grid, :], 1, int(SoilLayer_num)) \n",
    "        \n",
    "        newSum = 0\n",
    "        for i in range(1, int(SoilLayer_num)+1):\n",
    "            psi[Cat][Cat_grid][i] = H[Cat][Cat_grid][i] + zCenter[Cat][Cat_grid][i] * g #H is renewed hydraulic head for each time step\n",
    "            theta[Cat][Cat_grid][i] = thetaFromPsi(Soil[int(hor[Cat][Cat_grid][i])], psi[Cat][Cat_grid][i]) \n",
    "            newSum += waterDensity * vol[Cat][Cat_grid][i] * theta[Cat][Cat_grid][i] # newSum is the mass of water in the grid-cell\n",
    "        \n",
    "        ## newSum = kg, sum0 = kg, f(H1-H2)dt = kg\n",
    "        massBalance = abs(newSum - (sum0 + (f[Cat][Cat_grid][1] * (H[Cat][Cat_grid][1] - H[Cat][Cat_grid][2]) * (dt_soil))\\\n",
    "                                    - (f[Cat][Cat_grid][int(SoilLayer_num)] * (H[Cat][Cat_grid][int(SoilLayer_num)]\\\n",
    "                                                                               - H[Cat][Cat_grid][int(SoilLayer_num)+1]) * (dt_soil))))\n",
    "        nrIterations += 1\n",
    "       \n",
    "    if (massBalance < tolerance): \n",
    "        ## flux unit = m3\n",
    "        Upper_flux = f[Cat][Cat_grid][1] * ((H[Cat][Cat_grid][1] - H[Cat][Cat_grid][2]) * (1 / waterDensity)) * (dt_soil)\n",
    "        Lower_flux = f[Cat][Cat_grid][int(SoilLayer_num)] * ((H[Cat][Cat_grid][int(SoilLayer_num)]\\\n",
    "                                                                  - H[Cat][Cat_grid][int(SoilLayer_num)+1]) * (1 / waterDensity)) * (dt_soil)\n",
    "#         if (Cat==0 and Cat_grid==9):\n",
    "#             print('Time=', format(FrameNumber, '.1f'), 'Cat=', format(Cat, '.1f'), 'Cat_grid=', format(Cat_grid, '.1f'),\n",
    "#                   'meanK=', format(meanK(meanType, k[Cat][Cat_grid][int(SoilLayer_num)],\\\n",
    "#                                                        hydraulicConductivityFromTheta(Soil[int(hor[Cat][Cat_grid][int(SoilLayer_num)+1])],\\\n",
    "#                                                         thetaFromPsi(Soil[int(hor[Cat][Cat_grid][int(SoilLayer_num)+1])],\\\n",
    "#                                                         psi[Cat][Cat_grid][int(SoilLayer_num)+1]))), '.10f'),\n",
    "#                   'dz[n]=', format(dz[Cat][Cat_grid][int(SoilLayer_num)], '.3f'),\n",
    "#                   'f[n]=', format(f[Cat][Cat_grid][int(SoilLayer_num)], '.3f'),\n",
    "#                   'H[n]=', format(H[Cat][Cat_grid][int(SoilLayer_num)], '.3f'),\n",
    "#                   'H[n+1]=', format(H[Cat][Cat_grid][int(SoilLayer_num)+1], '.3f'))\n",
    "        \n",
    "        return True, nrIterations, Upper_flux, Lower_flux\n",
    "        \n",
    "    else:\n",
    "        print(\"massBal=\", format(massBalance, '.3f'), 'k[n]=',\\\n",
    "              format(k[Cat][Cat_grid][int(SoilLayer_num)], '.10f'), 'k[n+1]=',\\\n",
    "              format(hydraulicConductivityFromTheta(Soil[hor[Cat][Cat_grid][int(SoilLayer_num)+1]],\\\n",
    "                                                    thetaFromPsi(Soil[hor[Cat][Cat_grid][int(SoilLayer_num)+1]],\\\n",
    "                                                                 psi[Cat][Cat_grid][int(SoilLayer_num)+1])), '.10f'), 'H[1]=', format(H[Cat][Cat_grid][1], '.3f'), 'H[2]=', format(H[Cat][Cat_grid][2], '.3f'), 'H[n]=', format(H[Cat][Cat_grid][int(SoilLayer_num)], '.3f'), 'H[n+1]=', format(H[Cat][Cat_grid][int(SoilLayer_num)+1], '.3f'),\\\n",
    "              'dz[n]=', format(dz[int(SoilLayer_num)], '.3f'), 'meanK[n]=', format(meanK(meanType, k[Cat][Cat_grid][int(SoilLayer_num)], hydraulicConductivityFromTheta(Soil[hor[Cat][Cat_grid][int(SoilLayer_num)+1]],\\\n",
    "                                                                              thetaFromPsi(Soil[int(hor[Cat][Cat_grid][int(SoilLayer_num)+1])],\\\n",
    "                                                                                           psi[Cat][Cat_grid][int(SoilLayer_num)+1]))), '.10f'))\n",
    "        return False, nrIterations, 0, dt_soil     "
   ]
  }
 ],
 "metadata": {
  "kernelspec": {
   "display_name": "Python 3 (ipykernel)",
   "language": "python",
   "name": "python3"
  },
  "language_info": {
   "codemirror_mode": {
    "name": "ipython",
    "version": 3
   },
   "file_extension": ".py",
   "mimetype": "text/x-python",
   "name": "python",
   "nbconvert_exporter": "python",
   "pygments_lexer": "ipython3",
   "version": "3.9.13"
  }
 },
 "nbformat": 4,
 "nbformat_minor": 2
}
