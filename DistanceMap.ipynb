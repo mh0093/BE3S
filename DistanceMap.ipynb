{
 "cells": [
  {
   "cell_type": "code",
   "execution_count": 154,
   "metadata": {
    "collapsed": true
   },
   "outputs": [],
   "source": [
    "import numpy as np\n",
    "import math as mt"
   ]
  },
  {
   "cell_type": "code",
   "execution_count": 155,
   "metadata": {
    "collapsed": true
   },
   "outputs": [],
   "source": [
    "data = np.loadtxt('Data/HUC12_DOMAIN_Delaware_250m_2Sided.txt', skiprows=6, delimiter='\\t')\n",
    "dem = np.loadtxt('Data/HUC12_DEM_Delaware_250m.txt', skiprows=6, delimiter='\\t')"
   ]
  },
  {
   "cell_type": "markdown",
   "metadata": {},
   "source": [
    "#### Trinity ncol=59, nrow=118\n",
    "#### Delaware ncol=125, nrow=87"
   ]
  },
  {
   "cell_type": "code",
   "execution_count": 156,
   "metadata": {
    "collapsed": true
   },
   "outputs": [],
   "source": [
    "ncol = 125\n",
    "nrow = 87"
   ]
  },
  {
   "cell_type": "code",
   "execution_count": 157,
   "metadata": {
    "collapsed": true
   },
   "outputs": [],
   "source": [
    "resolution = 250 # unit: m"
   ]
  },
  {
   "cell_type": "code",
   "execution_count": 158,
   "metadata": {
    "collapsed": true
   },
   "outputs": [],
   "source": [
    "## Stream order-wise\n",
    "Chan_indi = [101]\n",
    "Cat_indi = [1,2]"
   ]
  },
  {
   "cell_type": "markdown",
   "metadata": {},
   "source": [
    "## Calculating minimum Euclidean distance at every aquifer grid-cells "
   ]
  },
  {
   "cell_type": "code",
   "execution_count": 159,
   "metadata": {
    "collapsed": true
   },
   "outputs": [],
   "source": [
    "grid_num = ncol * nrow ## Total number of grid-cells\n",
    "Cat_num = len(Cat_indi)\n",
    "Chan_num = len(Chan_indi)\n",
    "Cat_Struct = [Cat_num, grid_num]\n",
    "Chan_Struct = [Chan_num, grid_num]\n",
    "\n",
    "list_cat_x = np.zeros(Cat_Struct)\n",
    "list_cat_y = np.zeros(Cat_Struct)\n",
    "list_chan_x = np.zeros(Chan_Struct)\n",
    "list_chan_y = np.zeros(Chan_Struct)\n",
    "\n",
    "\n",
    "structure = [nrow, ncol]\n",
    "dist = np.zeros(structure)\n",
    "# GWT_dist = np.zeros(structure)"
   ]
  },
  {
   "cell_type": "code",
   "execution_count": 160,
   "metadata": {
    "collapsed": true
   },
   "outputs": [],
   "source": [
    "## Recording stream location \n",
    "## Loop for detecting stream grid-cells\n",
    "Chan_grid_num = np.zeros(len(Chan_indi))\n",
    "\n",
    "for m in range(0, len(Chan_indi)):\n",
    "    n = 0; \n",
    "    for i in range(0, nrow):\n",
    "        for j in range(0, ncol):\n",
    "            if data[i][j] == Chan_indi[m]:\n",
    "                ## nth grid-cell in m catchment \n",
    "                list_chan_x[m][n] = i\n",
    "                list_chan_y[m][n] = j\n",
    "                n += 1\n",
    "    \n",
    "    Chan_grid_num[m] = int(n)"
   ]
  },
  {
   "cell_type": "code",
   "execution_count": 161,
   "metadata": {
    "collapsed": true
   },
   "outputs": [],
   "source": [
    "## listing up catchment location \n",
    "## Loop for detecting catchment grid-cells\n",
    "Cat_grid_num = np.zeros(len(Cat_indi))\n",
    "\n",
    "for m in range(0, len(Cat_indi)):\n",
    "    k = 0; \n",
    "    for i in range(0, nrow):\n",
    "        for j in range(0, ncol):\n",
    "            if data[i][j] == Cat_indi[m]:\n",
    "                ## kth grid-cell in m catchment \n",
    "                list_cat_x[m][k] = i\n",
    "                list_cat_y[m][k] = j\n",
    "                k += 1\n",
    "    \n",
    "    Cat_grid_num[m] = int(k)"
   ]
  },
  {
   "cell_type": "code",
   "execution_count": 162,
   "metadata": {
    "collapsed": true
   },
   "outputs": [],
   "source": [
    "Stream_num = Chan_grid_num.tolist()\n",
    "cat_maxDistance = np.zeros(len(Cat_indi))"
   ]
  },
  {
   "cell_type": "code",
   "execution_count": 163,
   "metadata": {
    "collapsed": true
   },
   "outputs": [],
   "source": [
    "for t in range(0, len(Cat_indi)):\n",
    "    for s in range(0, len(Chan_indi)):\n",
    "\n",
    "        tmp_dist = np.zeros(int(Stream_num[s]))\n",
    "        \n",
    "        for i in range(0, nrow):\n",
    "            for j in range(0, ncol):\n",
    "\n",
    "                ## Calculating Euclidean minimum distance for individual catchment\n",
    "                if data[i][j] == Cat_indi[t]:\n",
    "                    for k in range(0, int(Stream_num[s])):\n",
    "\n",
    "                        ## Calculating all the possible distance from a grid-cell to the corresponding stream grid-cells\n",
    "                        tmp_dist[k] = mt.sqrt((i-list_chan_x[s][k])**2 + (j-list_chan_y[s][k])**2)\n",
    "                        dist[i][j] = np.round(np.amin(tmp_dist))\n",
    "\n",
    "#     ## Calculating maximum distance from each catchment\n",
    "#     cat_maxDistance[t] = mt.ceil(np.amax(np.amin(tmp_dist)))  "
   ]
  },
  {
   "cell_type": "markdown",
   "metadata": {},
   "source": [
    "#### Delaware Max Distance Catchment 0 = 44, Catchment 1 = 34\n",
    "#### Trinity Max Distance Catchment 1 = 53, Catchment 1 = 40"
   ]
  },
  {
   "cell_type": "code",
   "execution_count": 164,
   "metadata": {
    "collapsed": true
   },
   "outputs": [],
   "source": [
    "cat_maxDistance[0] = 44\n",
    "cat_maxDistance[1] = 34"
   ]
  },
  {
   "cell_type": "code",
   "execution_count": 140,
   "metadata": {
    "collapsed": true
   },
   "outputs": [],
   "source": [
    "# np.savetxt('dist.txt',dist[:,:])"
   ]
  },
  {
   "cell_type": "code",
   "execution_count": null,
   "metadata": {
    "collapsed": true
   },
   "outputs": [],
   "source": []
  }
 ],
 "metadata": {
  "kernelspec": {
   "display_name": "Python 3",
   "language": "python",
   "name": "python3"
  },
  "language_info": {
   "codemirror_mode": {
    "name": "ipython",
    "version": 3
   },
   "file_extension": ".py",
   "mimetype": "text/x-python",
   "name": "python",
   "nbconvert_exporter": "python",
   "pygments_lexer": "ipython3",
   "version": "3.6.3"
  }
 },
 "nbformat": 4,
 "nbformat_minor": 2
}
