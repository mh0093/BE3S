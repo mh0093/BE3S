{
 "cells": [
  {
   "cell_type": "markdown",
   "metadata": {},
   "source": [
    "# Bidirectional Exchange Flux Scheme in Surface and Subsurface (BE3S)"
   ]
  },
  {
   "cell_type": "code",
   "execution_count": 1,
   "metadata": {
    "collapsed": true,
    "scrolled": true
   },
   "outputs": [],
   "source": [
    "import import_ipynb"
   ]
  },
  {
   "cell_type": "code",
   "execution_count": 2,
   "metadata": {
    "scrolled": true
   },
   "outputs": [
    {
     "name": "stdout",
     "output_type": "stream",
     "text": [
      "importing Jupyter notebook from SoilWaterFlow.ipynb\n",
      "importing Jupyter notebook from Solver.ipynb\n",
      "importing Jupyter notebook from Conversion.ipynb\n",
      "importing Jupyter notebook from DataRead.ipynb\n",
      "importing Jupyter notebook from DistanceMap.ipynb\n",
      "importing Jupyter notebook from SpatialDiscretization.ipynb\n",
      "importing Jupyter notebook from GroundWaterFlow.ipynb\n",
      "importing Jupyter notebook from ChannelFlow.ipynb\n"
     ]
    }
   ],
   "source": [
    "## BE3S Modules\n",
    "import SoilWaterFlow as inf\n",
    "import GroundWaterFlow as wtd\n",
    "import ChannelFlow as chf\n",
    "import DistanceMap as dis\n",
    "import Conversion as conv"
   ]
  },
  {
   "cell_type": "code",
   "execution_count": 3,
   "metadata": {
    "collapsed": true,
    "scrolled": true
   },
   "outputs": [],
   "source": [
    "## Internal Modules\n",
    "import numpy as np\n",
    "import math as mt\n",
    "import pandas as pd\n",
    "import time\n",
    "from matplotlib import cm\n",
    "import matplotlib.pyplot as plt\n",
    "plt.rcParams[\"figure.figsize\"] = (10,6)"
   ]
  },
  {
   "cell_type": "markdown",
   "metadata": {},
   "source": [
    "### Recession Analysis\n",
    "\n",
    "Delaware (simulation length includes travel time)\n",
    "\n",
    "RE1 (b=3.0) 228 hr\n",
    "\n",
    "RE2 (b=2.5) 101 hr\n",
    "\n",
    "RE3 (b=2.0) 113 hr\n",
    "\n",
    "RE4 (b=1.5) 111 hr"
   ]
  },
  {
   "cell_type": "code",
   "execution_count": 4,
   "metadata": {
    "scrolled": true
   },
   "outputs": [
    {
     "name": "stdout",
     "output_type": "stream",
     "text": [
      "\n",
      "Nr of simulation hours:228\n"
     ]
    }
   ],
   "source": [
    "simulationLength = int(input(\"\\nNr of simulation hours:\"))    "
   ]
  },
  {
   "cell_type": "code",
   "execution_count": 5,
   "metadata": {},
   "outputs": [
    {
     "name": "stdout",
     "output_type": "stream",
     "text": [
      "\n",
      "RE :1\n"
     ]
    }
   ],
   "source": [
    "RE = float(input(\"\\nRE :\"))"
   ]
  },
  {
   "cell_type": "code",
   "execution_count": 6,
   "metadata": {},
   "outputs": [
    {
     "name": "stdout",
     "output_type": "stream",
     "text": [
      "\n",
      "Fraction of stream-feeding aquifer (-):0.006\n"
     ]
    }
   ],
   "source": [
    "Alpha = float(input(\"\\nFraction of stream-feeding aquifer (-):\"))"
   ]
  },
  {
   "cell_type": "code",
   "execution_count": 7,
   "metadata": {},
   "outputs": [
    {
     "name": "stdout",
     "output_type": "stream",
     "text": [
      "\n",
      "Initial saturated aquifer thickness (m):1.45\n"
     ]
    }
   ],
   "source": [
    "WT_initial = float(input(\"\\nInitial saturated aquifer thickness (m):\"))"
   ]
  },
  {
   "cell_type": "code",
   "execution_count": 8,
   "metadata": {},
   "outputs": [
    {
     "name": "stdout",
     "output_type": "stream",
     "text": [
      "\n",
      "The height of a soil grid (m):5\n"
     ]
    }
   ],
   "source": [
    "SoilGrid_height = int(input(\"\\nThe height of a soil grid (m):\"))"
   ]
  },
  {
   "cell_type": "code",
   "execution_count": 9,
   "metadata": {},
   "outputs": [
    {
     "name": "stdout",
     "output_type": "stream",
     "text": [
      "\n",
      "Initial degree of saturation (0-1]: 0.5\n"
     ]
    }
   ],
   "source": [
    "## Initializing degree of saturation\n",
    "myStr = \"Initial degree of saturation (0-1]: \" \n",
    "Se_init = conv.NODATA\n",
    "print()\n",
    "while ((Se_init <= 0.0) or (Se_init > 1.0)):\n",
    "    Se_init = float(input(myStr)) "
   ]
  },
  {
   "cell_type": "code",
   "execution_count": 10,
   "metadata": {
    "collapsed": true,
    "scrolled": true
   },
   "outputs": [],
   "source": [
    "## Global variable declaration\n",
    "maxDistance = np.zeros(len(dis.Chan_indi))\n",
    "cat_x = np.zeros(dis.ncol * dis.nrow)\n",
    "cat_y = np.zeros(dis.ncol * dis.nrow)\n",
    "chan_x = np.zeros(dis.ncol * dis.nrow)\n",
    "chan_y = np.zeros(dis.ncol * dis.nrow)\n",
    "\n",
    "## Exchange fluxes variables\n",
    "Infilt = np.zeros((len(dis.Cat_indi), int(max(dis.Cat_grid_num)), simulationLength))\n",
    "DPerc = np.zeros((len(dis.Cat_indi), int(max(dis.Cat_grid_num)), simulationLength))\n",
    "HEF_by_grid = np.zeros((len(dis.Cat_indi), int(max(dis.Cat_grid_num)), simulationLength))\n",
    "\n",
    "## Soil moisture variables\n",
    "SMC_profile = np.zeros((len(dis.Cat_indi), int(max(dis.Cat_grid_num)), simulationLength, int(dis.dem.max())))\n",
    "SoilLayer_num = np.zeros((len(dis.Cat_indi), int(max(dis.Cat_grid_num))))\n",
    "\n",
    "## SW-GW interaction variables\n",
    "HEF = np.zeros((len(dis.Cat_indi), simulationLength))\n",
    "Qlat = np.zeros((len(dis.Cat_indi), simulationLength))\n",
    "Qlat_2Sided = np.zeros((len(dis.Chan_indi), simulationLength))\n",
    "\n",
    "## GW variables\n",
    "GWT_init = np.zeros((len(dis.Cat_indi), int(max(dis.Cat_grid_num)), simulationLength))\n",
    "Time_varying_depth = np.zeros((len(dis.Cat_indi), int(max(dis.Cat_grid_num)), simulationLength))\n",
    "Averaged_GWT = np.zeros((len(dis.Cat_indi), int(max(dis.cat_maxDistance) + 1))) + WT_initial\n",
    "\n",
    "## SW variables \n",
    "SH_averaged = np.zeros((len(dis.Cat_indi), simulationLength))\n",
    "SH_most_upstream = np.zeros((len(dis.Cat_indi), simulationLength))\n",
    "SH_downstream = np.zeros((len(dis.Cat_indi), simulationLength))\n",
    "# SH_distribution = np.zeros((len(dis.Cat_indi), simulationLength, int(max(dis.Chan_grid_num))))"
   ]
  },
  {
   "cell_type": "code",
   "execution_count": 11,
   "metadata": {
    "collapsed": true,
    "scrolled": true
   },
   "outputs": [],
   "source": [
    "def Soil_process(Cat, Cat_grid, Channel_id, Catchment_id, maxDistance, hour, WT_head, Se_init, SoilLayer_num):\n",
    "    \n",
    "    # Defining time step (24hour-1day) \n",
    "    endTime = 3600 \n",
    "    nt = 1\n",
    "    dt = endTime / nt \n",
    "    \n",
    "    totalIterationNr = 0.0\n",
    "\n",
    "    ## Upper boundary condition [J kg^-1]\n",
    "    ubPotential = inf.airEntryPotential(Soil[0])     \n",
    "  \n",
    "    if hour == 0:    \n",
    "        Time_varying_depth[Cat][Cat_grid][hour] = dis.dem[int(dis.list_cat_x[Cat][Cat_grid])]\\\n",
    "        [int(dis.list_cat_y[Cat][Cat_grid])] - WT_initial\n",
    "            \n",
    "    elif hour > 0:       \n",
    "#         #### Both effects #### \n",
    "#         Time_varying_depth[Cat][Cat_grid][hour] = dis.dem[int(dis.list_cat_x[Cat][Cat_grid])][int(dis.list_cat_y[Cat][Cat_grid])]-\\\n",
    "#         WT_head[wtd.mag_factor * int(dis.dist[int(dis.list_cat_x[Cat][Cat_grid])][int(dis.list_cat_y[Cat][Cat_grid])])-1]-\\\n",
    "#         ((DPerc[Cat][Cat_grid][hour-1] / inf.area) / wtd.Ne) \n",
    "#         #####################\n",
    "        #### Fluvial only #### \n",
    "        Time_varying_depth[Cat][Cat_grid][hour] = dis.dem[int(dis.list_cat_x[Cat][Cat_grid])][int(dis.list_cat_y[Cat][Cat_grid])]-\\\n",
    "        WT_head[wtd.mag_factor * int(dis.dist[int(dis.list_cat_x[Cat][Cat_grid])][int(dis.list_cat_y[Cat][Cat_grid])])-1]\n",
    "        ######################\n",
    "        \n",
    "        inf.Updating_depth(Cat, Cat_grid, Soil, Time_varying_depth[Cat][Cat_grid][hour], int(SoilLayer_num))    \n",
    "\n",
    "    time = 0 \n",
    "    while (time < endTime):\n",
    "        \n",
    "        ## Solving Richards equation using FVM\n",
    "        ## flux unit: m/hr\n",
    "        success, nrIterations, Upper_flux, Lower_flux\\\n",
    "        = inf.infiltration_by_FVM(Cat, Cat_grid, Soil, dt, inf.LOGARITHMIC, hour, int(SoilLayer_num))\n",
    "        \n",
    "        ## Success means: Richards equation converged successfully        \n",
    "        if success:\n",
    "            for i in range(int(SoilLayer_num)):\n",
    "                inf.oldTheta[Cat][Cat_grid][i] = inf.theta[Cat][Cat_grid][i]\n",
    "\n",
    "            Infilt[Cat][Cat_grid][hour] += Upper_flux\n",
    "            DPerc[Cat][Cat_grid][hour] += Lower_flux   \n",
    "            for k in range(1, int(maxDistance)+1):\n",
    "                if k == int(dis.dist[int(dis.list_cat_x[Cat][Cat_grid])][int(dis.list_cat_y[Cat][Cat_grid])]):\n",
    "                    SMC_profile[Cat][Cat_grid][hour][:] = inf.theta[Cat][Cat_grid][:]\n",
    "            time += dt\n",
    "\n",
    "        else: \n",
    "            ## Adaptive time step\n",
    "            dt = max(dt / 2, 1)\n",
    "            for i in range(int(SoilLayer_num+2)):\n",
    "                inf.theta[Cat][Cat_grid][i] = inf.oldTheta[Cat][Cat_grid][i]\n",
    "                inf.psi[Cat][Cat_grid][i] = inf.waterPotential(Soil[inf.hor[Cat][Cat_grid][i]], inf.theta[Cat][Cat_grid][i])\n",
    "    \n",
    "#     print(\"Cat= %d, Cat_grid= %d, hour= %d, GW_recharge= %.5f, GWL_depth= %.3f, dz= %.5f, GWL_head= %.5f\"\\\n",
    "#           % (Cat, Cat_grid, hour, ((DPerc[Cat][Cat_grid][hour-1] / inf.area) / wtd.Ne)\\\n",
    "#              , Time_varying_depth[Cat][Cat_grid][hour], inf.dz[Cat][Cat_grid][int(SoilLayer_num)], (dis.dem[int(dis.list_cat_x[Cat][Cat_grid])][int(dis.list_cat_y[Cat][Cat_grid])]\\\n",
    "#               - Time_varying_depth[Cat][Cat_grid][hour])))\n",
    "\n",
    "    return DPerc[Cat][Cat_grid][hour], endTime"
   ]
  },
  {
   "cell_type": "code",
   "execution_count": 12,
   "metadata": {
    "collapsed": true,
    "scrolled": true
   },
   "outputs": [],
   "source": [
    "def SWGW_process(Cat, GWT_init, Averaged_SH, hour, maxDistance, WT_initial, Univ_dt):\n",
    "    \n",
    "    WT_head, DistFromRiver, Qlateral = \\\n",
    "    wtd.WT_Dynamics(GWT_init, Averaged_SH, Univ_dt, maxDistance, WT_initial, int(hour)) ## Qlateral: m3/hr\n",
    "    \n",
    "    HEF[Cat][hour] = Qlateral[hour] ## HEF unit: m3/hr or m3 (can be considered m3)\n",
    "    \n",
    "    GWT_head = np.append(Averaged_SH, np.array(WT_head[:]))\n",
    "\n",
    "    np.savetxt(\"Output/result_GWT_%s_%s.txt\" % (Cat, hour), GWT_head, delimiter=\" \")\n",
    "\n",
    "    return WT_head, HEF[Cat][hour]"
   ]
  },
  {
   "cell_type": "code",
   "execution_count": 13,
   "metadata": {
    "collapsed": true,
    "scrolled": true
   },
   "outputs": [],
   "source": [
    "### Averaging out GWT according to the Euclidean distance from a reach\n",
    "def GWT_initialization(Cat, Soil_Depth):\n",
    "\n",
    "    Accum_GWT = np.zeros((len(dis.Cat_indi), int(dis.cat_maxDistance[Cat] + 1)))\n",
    "    Grid_num_atDist = np.zeros((len(dis.Cat_indi), int(dis.cat_maxDistance[Cat] + 1)))\n",
    "    \n",
    "    for q in range(0, int(dis.Cat_grid_num[Cat])):\n",
    "        for v in range(0, int(dis.cat_maxDistance[Cat] + 1)):\n",
    "            \n",
    "            if dis.dist[int(dis.list_cat_x[Cat][q])][int(dis.list_cat_y[Cat][q])] == v:\n",
    "                Accum_GWT[Cat][v] = Accum_GWT[Cat][v] + (dis.dem[int(dis.list_cat_x[Cat][q])][int(dis.list_cat_y[Cat][q])]\\\n",
    "                                                         - Soil_Depth[q])\n",
    "\n",
    "                Grid_num_atDist[Cat][v] += 1 \n",
    "                \n",
    "    for rt in range(1, int(dis.cat_maxDistance[Cat])):\n",
    "        Averaged_GWT[Cat][rt] = Accum_GWT[Cat][rt] / Grid_num_atDist[Cat][rt]"
   ]
  },
  {
   "cell_type": "code",
   "execution_count": 14,
   "metadata": {
    "collapsed": true,
    "scrolled": true
   },
   "outputs": [],
   "source": [
    "## Grid-based surface water routing - Looped rating Muskingum-Cunge method\n",
    "## Has to provide averaged stream height value at catchment-scale \n",
    "\n",
    "def River_routing(cat, Qlat, SH_upstream, Chan_length, hour, Univ_dt):\n",
    "\n",
    "    SH_in, SH_out, SH_profile = chf.LRMC(Qlat, SH_upstream, Chan_length, cat, hour, Univ_dt)\n",
    "    \n",
    "    return SH_in, SH_out, SH_profile"
   ]
  },
  {
   "cell_type": "code",
   "execution_count": 15,
   "metadata": {
    "scrolled": true
   },
   "outputs": [
    {
     "name": "stdout",
     "output_type": "stream",
     "text": [
      "---- Execution time: 264.1 seconds ----\n"
     ]
    }
   ],
   "source": [
    "start_time = time.time()\n",
    "\n",
    "## Reading soil properties\n",
    "isSuccess, Soil = conv.readSoil(\"Data/soilUniform_SCL.txt\")\n",
    "\n",
    "for hour in range(0, simulationLength):\n",
    "    if hour == 0:\n",
    "        \n",
    "        for cat in range(0, len(dis.Cat_indi)):\n",
    "  \n",
    "            for cat_grid in range(0, int(dis.Cat_grid_num[cat])):\n",
    "\n",
    "                SoilLayer_num[cat][cat_grid] = inf.initialization(cat, cat_grid, Soil, Se_init,\\\n",
    "                                                                  dis.dem[int(dis.list_cat_x[cat][cat_grid])]\\\n",
    "                                   [int(dis.list_cat_y[cat][cat_grid])] - WT_initial, SoilGrid_height)  \n",
    "\n",
    "                DPerc[cat][cat_grid][hour], Univ_dt = Soil_process(cat, cat_grid,\\\n",
    "                                                                   dis.Chan_indi[0], dis.Cat_indi[cat],\\\n",
    "                                                                   dis.cat_maxDistance[cat], hour, GWT_init,\\\n",
    "                                                                   Se_init, int(SoilLayer_num[cat][cat_grid]))\n",
    "            \n",
    "            SH_averaged[cat][hour] = chf.SH_atHW21['River_stage'][1]\n",
    "#             SH_most_upstream[0, :] = chf.SH_atHW21['River_stage'][0:simulationLength]\n",
    "            SH_most_upstream[cat, :] = chf.SH_atHW21['River_stage'][0:simulationLength]\n",
    "            \n",
    "    elif hour > 0:\n",
    "        for cat in range(0, len(dis.Cat_indi)):\n",
    "            \n",
    "            WT_head, Qlat[cat][hour] = SWGW_process(cat, np.array(Averaged_GWT[cat, :]).tolist(),\\\n",
    "                                                    SH_averaged[cat][hour-1], hour, int(dis.cat_maxDistance[cat]), WT_initial, Univ_dt) \n",
    "            \n",
    "            Qlat_2Sided[0][hour] += Qlat[cat][hour]\n",
    "            \n",
    "            for cat_grid in range(0, int(dis.Cat_grid_num[cat])): \n",
    "                DPerc[cat][cat_grid][hour], Univ_dt = Soil_process(cat, cat_grid, dis.Chan_indi[0], dis.Cat_indi[cat],\\\n",
    "                                                                    dis.cat_maxDistance[cat], hour, WT_head, Se_init,\\\n",
    "                                                                    SoilLayer_num[cat][cat_grid])  \n",
    "            \n",
    "            GWT_initialization(cat, np.array(Time_varying_depth[cat, :, hour]).tolist())\n",
    "            \n",
    "            ## Grid-based LRMC routing \n",
    "            if (cat > 0):\n",
    "                SH_in, SH_out, SH_profile = River_routing(0, Qlat_2Sided[0][hour], SH_most_upstream[cat][hour-1],\\\n",
    "                                                              int(dis.Chan_grid_num[0]), hour, Univ_dt)\n",
    "\n",
    "    #             if cat == 0:\n",
    "    #                 SH_in, SH_out, SH_profile = River_routing(cat, Qlat[cat][hour], SH_most_upstream[cat][hour-1],\\\n",
    "    #                                                           int(dis.Chan_grid_num[cat]), hour, Univ_dt)\n",
    "    #             elif cat > 0:\n",
    "    #                 SH_in, SH_out, SH_profile = River_routing(cat, Qlat[cat][hour], SH_out, int(dis.Chan_grid_num[cat]),\\\n",
    "    #                                                           hour, Univ_dt)\n",
    "                np.savetxt(\"Output/result_SH_profile_%s_%s.txt\" % (dis.Chan_indi[0], hour), SH_profile, delimiter=\" \")           \n",
    "                SH_averaged[0][hour] = np.average(SH_profile)\n",
    "                SH_averaged[1][hour] = np.average(SH_profile)\n",
    "\n",
    "print(\"---- Execution time: %.1f seconds ----\" % (time.time() - start_time))"
   ]
  },
  {
   "cell_type": "markdown",
   "metadata": {},
   "source": [
    "# LET'S MAKE PLOTS"
   ]
  },
  {
   "cell_type": "markdown",
   "metadata": {},
   "source": [
    "### SWS, GWS daily mass flux balance"
   ]
  },
  {
   "cell_type": "code",
   "execution_count": 16,
   "metadata": {
    "collapsed": true
   },
   "outputs": [],
   "source": [
    "Start_time = 1\n",
    "End_time = simulationLength"
   ]
  },
  {
   "cell_type": "markdown",
   "metadata": {},
   "source": [
    "### NSD"
   ]
  },
  {
   "cell_type": "code",
   "execution_count": 17,
   "metadata": {},
   "outputs": [
    {
     "name": "stderr",
     "output_type": "stream",
     "text": [
      "No handles with labels found to put in legend.\n"
     ]
    },
    {
     "data": {
      "image/png": "[encoded data removed]",
      "text/plain": [
       "<Figure size 504x504 with 1 Axes>"
      ]
     },
     "metadata": {},
     "output_type": "display_data"
    }
   ],
   "source": [
    "plt.figure(figsize=(7, 7))\n",
    "axis_font = {'fontname':'Arial', 'size':'15'}\n",
    "\n",
    "plt.plot(Qlat_2Sided[0][4:End_time])\n",
    "plt.xlabel(\"Time (hour)\", **axis_font)\n",
    "plt.ylabel(\"Lateral Drainage ($m^3/hr$)\", **axis_font)\n",
    "plt.xticks(fontsize=13, rotation=0)\n",
    "plt.yticks(fontsize=13, rotation=0)\n",
    "plt.legend(prop={'size': 13}, frameon = False)\n",
    "plt.show()"
   ]
  },
  {
   "cell_type": "code",
   "execution_count": 18,
   "metadata": {
    "collapsed": true
   },
   "outputs": [],
   "source": [
    "np.savetxt('Output/NSD/NSD_RE%s-R%s_D%s_ZeroBC.txt' % (RE, Alpha, WT_initial), Qlat_2Sided[0][0:End_time])"
   ]
  },
  {
   "cell_type": "code",
   "execution_count": null,
   "metadata": {
    "collapsed": true
   },
   "outputs": [],
   "source": [
    "GWT_combined_1 = {}\n",
    "GWT_combined_2 = {}\n",
    "# GWT_combined_3 = {}\n",
    "# GWT_combined_4 = {}\n",
    "\n",
    "NN = simulationLength\n",
    "for n in range(1, NN):\n",
    "    GWT_combined_1[n] = pd.read_csv('Output/result_GWT_0_{0}.txt'.format(n))\n",
    "    GWT_combined_2[n] = pd.read_csv('Output/result_GWT_1_{0}.txt'.format(n))\n",
    "#     GWT_combined_3[n] = pd.read_csv('Output/result_GWT_2_{0}.txt'.format(n))\n",
    "\n",
    "(pd.concat([GWT_combined_1[n] for n in range(1, NN)], axis=1)\n",
    "  .to_csv('Output/Combined_GWL/RE1_Slope3_NSD/GWL_combined_cat1_RE%s-a%s_D%s.txt' % (RE, Alpha, WT_initial), index=False, na_rep='N/A', sep=\"\\t\")\n",
    ")\n",
    "(pd.concat([GWT_combined_2[n] for n in range(1, NN)], axis=1)\n",
    "  .to_csv('Output/Combined_GWL/RE1_Slope3_NSD/GWL_combined_cat2_RE%s-a%s_D%s.txt' % (RE, Alpha, WT_initial), index=False, na_rep='N/A', sep=\"\\t\")\n",
    ")\n",
    "\n",
    "# (pd.concat([GWT_combined_3[n] for n in range(1, NN)], axis=1)\n",
    "#   .to_csv('Output/Combined_GWL/GWL_combined_A0.01_D7.6_Cat3.txt', index=False, na_rep='N/A', sep=\"\\t\")\n",
    "# )"
   ]
  },
  {
   "cell_type": "markdown",
   "metadata": {},
   "source": [
    "### Streamflow hydrograph"
   ]
  },
  {
   "cell_type": "code",
   "execution_count": null,
   "metadata": {
    "collapsed": true
   },
   "outputs": [],
   "source": [
    "from pylab import figure, show, legend, ylabel\n",
    "\n",
    "title_font = {'fontname':'Arial', 'size':'25', 'color':'black', 'weight':'normal',\n",
    "              'verticalalignment':'bottom'}\n",
    "\n",
    "axis_font = {'fontname':'Arial', 'size':'20'}\n",
    "\n",
    "## River stage time series\n",
    "# plt.title(\"River stage hourly time series\", **title_font)\n",
    "# plt.plot(chf.SH_inlet[0][Start_time:simulationLength-1], 'b-', label=\"Upstream (1st catchment)\")\n",
    "# plt.plot(chf.SH_outlet[0][Start_time:simulationLength-1], 'r-', label=\"Downstream (1th catchment)\")\n",
    "# Streamflow time series\n",
    "plt.plot(chf.Streamflow_profile[0][Start_time:simulationLength] / 3600, 'b-', label=\"Upstream (1st catchment)\")\n",
    "plt.plot(chf.Streamflow_profile[int(dis.Chan_grid_num)-1][Start_time:simulationLength] / 3600, 'r-', label=\"Downstream (1th catchment)\")\n",
    "\n",
    "plt.xlabel(\"Time (hours)\", **axis_font)\n",
    "plt.ylabel(\"Streamflow ($m^3$)\", **axis_font)\n",
    "plt.xticks(fontsize=15, rotation=0)\n",
    "plt.yticks(fontsize=15, rotation=0)\n",
    "plt.legend(prop={'size': 16}, frameon = False)\n",
    "plt.show()\n",
    "\n",
    "np.savetxt(\"Output/Streamflow/RE4/Streamflow_RecessionEvent4_A%s_D%s.txt\" % (Alpha, WT_initial), chf.Streamflow_profile[int(dis.Chan_grid_num)-1][Start_time:simulationLength] / 3600, delimiter=\" \")"
   ]
  },
  {
   "cell_type": "code",
   "execution_count": null,
   "metadata": {
    "collapsed": true
   },
   "outputs": [],
   "source": [
    "chf.SH_outlet[0][Start_time:simulationLength]"
   ]
  },
  {
   "cell_type": "code",
   "execution_count": null,
   "metadata": {
    "collapsed": true
   },
   "outputs": [],
   "source": [
    "from pylab import figure, show, legend, ylabel\n",
    "\n",
    "title_font = {'fontname':'Arial', 'size':'25', 'color':'black', 'weight':'normal',\n",
    "              'verticalalignment':'bottom'}\n",
    "\n",
    "axis_font = {'fontname':'Arial', 'size':'20'}\n",
    "\n",
    "## River stage time series\n",
    "plt.title(\"River stage hourly time series\", **title_font)\n",
    "plt.plot(chf.SH_inlet[0][Start_time:simulationLength], 'b-', label=\"Upstream (1st catchment)\")\n",
    "plt.plot(chf.SH_outlet[0][Start_time:simulationLength], 'r-', label=\"Downstream (1st catchment)\")\n",
    "# Streamflow time series\n",
    "# plt.plot(chf.Streamflow_profile[0][Start_time:simulationLength-1] / 3600, 'b-', label=\"Upstream (1st catchment)\")\n",
    "# plt.plot(chf.Streamflow_profile[int(dis.Chan_grid_num)-1][Start_time:simulationLength-1] / 3600, 'r-', label=\"Downstream (1th catchment)\")\n",
    "\n",
    "plt.xlabel(\"Time (hours)\", **axis_font)\n",
    "plt.ylabel(\"Streamflow ($m^3$)\", **axis_font)\n",
    "plt.xticks(fontsize=15, rotation=0)\n",
    "plt.yticks(fontsize=15, rotation=0)\n",
    "plt.legend(prop={'size': 16}, frameon = False)\n",
    "plt.show()"
   ]
  },
  {
   "cell_type": "code",
   "execution_count": null,
   "metadata": {
    "collapsed": true
   },
   "outputs": [],
   "source": [
    "chf.SH_outlet[0][Start_time+5:simulationLength]\n",
    "np.savetxt(\"Output/RA/RS_b1.5_A%s_D%s.txt\" % (Alpha, WT_initial), chf.SH_outlet[0][Start_time:simulationLength], delimiter=\" \")"
   ]
  },
  {
   "cell_type": "code",
   "execution_count": null,
   "metadata": {
    "collapsed": true
   },
   "outputs": [],
   "source": [
    "SWS_Initial = np.zeros((len(dis.Cat_indi), int(max(dis.Cat_grid_num))))\n",
    "SWS_Final = np.zeros((len(dis.Cat_indi), int(max(dis.Cat_grid_num))))\n",
    "SWS_diff = np.zeros((len(dis.Cat_indi), simulationLength, int(max(dis.Cat_grid_num))))\n",
    "SWS_state = np.zeros((len(dis.Cat_indi), simulationLength))\n",
    "\n",
    "GWS_Initial = np.zeros((len(dis.Cat_indi), int(max(dis.Cat_grid_num))))\n",
    "GWS_Final = np.zeros((len(dis.Cat_indi), int(max(dis.Cat_grid_num))))\n",
    "GWS_diff = np.zeros((len(dis.Cat_indi), simulationLength, int(max(dis.Cat_grid_num))))\n",
    "\n",
    "Infilt_Sum = np.zeros((len(dis.Cat_indi), int(max(dis.Cat_grid_num))))\n",
    "Infilt_Sum0 = np.zeros((len(dis.Cat_indi), int(max(dis.Cat_grid_num))))\n",
    "DPerc_Sum = np.zeros((len(dis.Cat_indi), int(max(dis.Cat_grid_num))))\n",
    "DPerc_Sum0 = np.zeros((len(dis.Cat_indi), int(max(dis.Cat_grid_num))))\n",
    "Qlat_Sum = np.zeros((len(dis.Cat_indi), int(max(dis.Cat_grid_num))))"
   ]
  },
  {
   "cell_type": "code",
   "execution_count": null,
   "metadata": {
    "collapsed": true
   },
   "outputs": [],
   "source": [
    "Ratio_SWS = np.zeros((len(dis.Cat_indi), simulationLength))\n",
    "Ratio_GWS = np.zeros((len(dis.Cat_indi), simulationLength))\n",
    "\n",
    "def Subsurface_MassBal(End_time):\n",
    "    for cat in range(0, len(dis.Cat_indi)):\n",
    "        for cat_grid in range(0, int(dis.Cat_grid_num[cat])):         \n",
    "            SWS_Final[cat][cat_grid] = SMC_profile[cat][cat_grid][End_time][1:1+int(SoilLayer_num[cat, cat_grid])].sum() * \\\n",
    "            (Time_varying_depth[cat, cat_grid, End_time] / SoilLayer_num[cat, cat_grid]) * pow(dis.resolution, 2)\n",
    "            SWS_Initial[cat][cat_grid] = SMC_profile[cat][cat_grid][End_time-1][1:1+int(SoilLayer_num[cat, cat_grid])].sum() * \\\n",
    "            (Time_varying_depth[cat, cat_grid, End_time-1] / SoilLayer_num[cat, cat_grid]) * pow(dis.resolution, 2)\n",
    "            \n",
    "            GWS_Final[cat][cat_grid] = (dis.dem[int(dis.list_cat_x[cat][cat_grid])]\\\n",
    "                                        [int(dis.list_cat_y[cat][cat_grid])]\\\n",
    "                                        - Time_varying_depth[cat, cat_grid, End_time]) * pow(dis.resolution, 2) * (wtd.Ne)\n",
    "            GWS_Initial[cat][cat_grid] = (dis.dem[int(dis.list_cat_x[cat][cat_grid])]\\\n",
    "                                          [int(dis.list_cat_y[cat][cat_grid])]\\\n",
    "                                          - Time_varying_depth[cat, cat_grid, End_time-1]) * pow(dis.resolution, 2) * (wtd.Ne)\n",
    "\n",
    "#         SWS_state[cat][End_time] = SWS_Final[cat][cat_grid]\n",
    "        SWS_state[cat][End_time] = SWS_Final[cat][0:cat_grid].sum()\n",
    "        SWS_diff[cat][End_time][:] = SWS_Final[cat, :] - SWS_Initial[cat, :]\n",
    "\n",
    "        FluxBal_SWS = (Infilt[cat, :, End_time] - DPerc[cat, :, End_time]).sum()\\\n",
    "        - (DPerc[cat, :, End_time-1].sum() - Qlat[cat, End_time-1])\n",
    "        \n",
    "        MassBal_SWS = FluxBal_SWS - SWS_diff[cat][End_time][:].sum()\n",
    "        Ratio_SWS[cat][End_time] = 1 / abs(SWS_diff[cat][End_time][:].sum() / FluxBal_SWS) \n",
    "        \n",
    "        if Ratio_SWS[cat][End_time] > 1:\n",
    "            Ratio_SWS[cat][End_time] = 1 / Ratio_SWS[cat][End_time]\n",
    "\n",
    "        GWS_diff[cat][End_time][:] = GWS_Final[cat, :] - GWS_Initial[cat, :]\n",
    "        FluxBal_GWS = (DPerc[cat, :, End_time-1]).sum() - (Qlat[cat, End_time] + Qlat[cat, End_time-1])   \n",
    "#         FluxBal_GWS = (DPerc[cat, :, End_time-1]).sum() - (Qlat[cat, End_time])   \n",
    "        \n",
    "        MassBal_GWS = FluxBal_GWS - GWS_diff[cat][End_time][:].sum()\n",
    "        Ratio_GWS[cat][End_time] = 1 / abs(GWS_diff[cat][End_time][:].sum() / FluxBal_GWS) \n",
    "        if Ratio_GWS[cat][End_time] > 1:\n",
    "            Ratio_GWS[cat][End_time] = 1 / Ratio_GWS[cat][End_time]"
   ]
  },
  {
   "cell_type": "code",
   "execution_count": null,
   "metadata": {
    "collapsed": true
   },
   "outputs": [],
   "source": [
    "for i in range(0, End_time):\n",
    "    Subsurface_MassBal(i)"
   ]
  },
  {
   "cell_type": "code",
   "execution_count": null,
   "metadata": {
    "collapsed": true
   },
   "outputs": [],
   "source": [
    "plt.figure(figsize=(7, 7), dpi=80)\n",
    "plt.scatter(Ratio_SWS[0, 90:End_time], Ratio_GWS[0, 90:End_time], c=\"green\", alpha=0.7)\n",
    "plt.xlim(0, 1)\n",
    "plt.ylim(0, 1)\n",
    "plt.xticks(fontsize = 11)\n",
    "plt.yticks(fontsize = 11)\n",
    "plt.xlabel('Mass Balance Ratio in Soil (m3/m3)', fontsize = 11)\n",
    "plt.ylabel('Mass Balance Ratio in Groundwater (m3/m3)', fontsize = 11)\n",
    "plt.show()"
   ]
  },
  {
   "cell_type": "code",
   "execution_count": null,
   "metadata": {
    "collapsed": true
   },
   "outputs": [],
   "source": [
    "# np.savetxt(\"Output/Subsurface/MassBalance/SWS_MBR_SCL_Ks0.002.txt\", Ratio_SWS[:, :], delimiter=\" \")\n",
    "# np.savetxt(\"Output/Subsurface/MassBalance/GWS_MBR_SCL_Ks0.002.txt\", Ratio_GWS[:, :], delimiter=\" \")"
   ]
  },
  {
   "cell_type": "code",
   "execution_count": null,
   "metadata": {
    "collapsed": true
   },
   "outputs": [],
   "source": [
    "# MBR_SWS = np.loadtxt(\"Output/Subsurface/MassBalance/SWS_MBR_Lowflow_BiFlow.txt\", delimiter=\" \")\n",
    "# MBR_GWS = np.loadtxt(\"Output/Subsurface/MassBalance/GWS_MBR_Lowflow_BiFlow.txt\", delimiter=\" \")"
   ]
  },
  {
   "cell_type": "markdown",
   "metadata": {},
   "source": [
    "### Mapped SWS, net recharge, and topographyTopography"
   ]
  },
  {
   "cell_type": "code",
   "execution_count": null,
   "metadata": {
    "collapsed": true
   },
   "outputs": [],
   "source": [
    "Soildepth_averaged = [np.average(SoilLayer_num[std, :]) for std in range(0,1)]\n",
    "# Soildepth_averaged"
   ]
  },
  {
   "cell_type": "code",
   "execution_count": null,
   "metadata": {
    "collapsed": true
   },
   "outputs": [],
   "source": [
    "Slope_averaged = [np.max(SoilLayer_num[std, :]) - np.min(SoilLayer_num[std, :]) / dis.cat_maxDistance[std] for std in range(0,1)]\n",
    "# Slope_averaged"
   ]
  },
  {
   "cell_type": "code",
   "execution_count": null,
   "metadata": {
    "collapsed": true
   },
   "outputs": [],
   "source": [
    "np.savetxt('Output/Distribution/DP_SiL_Ks0.002.txt', DPerc[0, :, :])"
   ]
  },
  {
   "cell_type": "code",
   "execution_count": null,
   "metadata": {
    "collapsed": true
   },
   "outputs": [],
   "source": [
    "Net_GWrecharge = [np.sum(DPerc[0, 10, :]) / dis.Cat_grid_num[std] for std in range(0,1)]\n",
    "Net_GWrecharge"
   ]
  },
  {
   "cell_type": "code",
   "execution_count": null,
   "metadata": {
    "collapsed": true
   },
   "outputs": [],
   "source": [
    "# [DPerc[0, std, :].sum() for std in range(0, 40)]"
   ]
  },
  {
   "cell_type": "code",
   "execution_count": null,
   "metadata": {
    "collapsed": true
   },
   "outputs": [],
   "source": [
    "ncol = 21\n",
    "nrow = 20\n",
    "\n",
    "DPerc_dist = np.zeros((nrow, ncol)) - 9999\n",
    "GWS_dist = np.zeros((nrow, ncol)) - 9999\n",
    "SWS_dist = np.zeros((nrow, ncol)) - 9999\n",
    "Topo_dist = np.zeros((nrow, ncol)) - 9999\n",
    "\n",
    "for m in range(0, len(dis.Chan_indi)):\n",
    "    for n in range(0, int(dis.Cat_grid_num[m])):\n",
    "        ## Monthly-cumulative net recharge (exchanges between vadose-phreatic zone)\n",
    "        DPerc_dist[int(dis.list_cat_x[m][n])][int(dis.list_cat_y[m][n])] = float(sum([np.sum(DPerc[m, n, std]\\\n",
    "                        for std in range(1, End_time))])/len([np.sum(DPerc[m, n, std] for std in range(1, End_time))]))\n",
    "  \n",
    "        ## monthly-cumulative SWS \n",
    "        SWS_temp = [np.cumsum(np.sum(SMC_profile[m, n, std, 2:1+int(SoilLayer_num[m, n])]) * (Time_varying_depth[m, n, std]\\\n",
    "                        / SoilLayer_num[m, n]) * pow(dis.resolution, 2)) for std in range(1, End_time)]\n",
    "        ## monthly-averaged GWS \n",
    "        GWS_temp = [np.cumsum(np.sum(dis.dem[int(dis.list_cat_x[m][n])]\\\n",
    "                    [int(dis.list_cat_y[m][n])] - Time_varying_depth[m, n, std]) * pow(dis.resolution, 2) * (wtd.Ne)) for std in range(1, End_time)]\n",
    "        \n",
    "        ## Daily averaged SWS and GWS\n",
    "        SWS_dist[int(dis.list_cat_x[m][n])][int(dis.list_cat_y[m][n])] = float(sum(SWS_temp) / len(SWS_temp))\n",
    "        GWS_dist[int(dis.list_cat_x[m][n])][int(dis.list_cat_y[m][n])] = float(sum(GWS_temp) / len(GWS_temp))\n",
    "        Topo_dist[int(dis.list_cat_x[m][n])][int(dis.list_cat_y[m][n])] = SoilLayer_num[m, n]"
   ]
  },
  {
   "cell_type": "code",
   "execution_count": null,
   "metadata": {
    "collapsed": true
   },
   "outputs": [],
   "source": [
    "## States\n",
    "np.savetxt('Output/Distribution/SWS_distribution_SiL_Ks0.002.txt', SWS_dist)\n",
    "np.savetxt('Output/Distribution/GWS_distribution_SiL_Ks0.002.txt', GWS_dist)\n",
    "np.savetxt('Output/Distribution/Topo_distribution_SiL_Ks0.002.txt', Topo_dist)\n",
    "\n",
    "## Fluxes \n",
    "np.savetxt('Output/Distribution/DPerc_distribution_SiL_Ks0.002.txt', DPerc_dist)\n",
    "np.savetxt('Output/Distribution/Qlat_distribution_SiL_Ks0.002.txt', Qlat.transpose())\n",
    "\n",
    "## Streamflow hydrographs and mass balance in channel\n",
    "np.savetxt('Output/Distribution/Streamflowoutlet_SiL_Ks0.002.txt', chf.Streamflow_profile[int(dis.Chan_grid_num)-1][0:simulationLength-1])\n",
    "np.savetxt('Output/Distribution/StreamflowInlet_SiL_Ks0.002.txt', chf.Streamflow_profile[0][0:simulationLength-1])\n",
    "np.savetxt('Output/Distribution/NSD_distribution_SiL_Ks0.002.txt', chf.Streamflow_profile[int(dis.Chan_grid_num)-1][0:simulationLength-1] -\\\n",
    "            chf.Streamflow_profile[0][0:simulationLength-1])"
   ]
  },
  {
   "cell_type": "markdown",
   "metadata": {},
   "source": [
    "## Mass balance in channel stream"
   ]
  },
  {
   "cell_type": "markdown",
   "metadata": {},
   "source": [
    "#### Scatter plot"
   ]
  },
  {
   "cell_type": "code",
   "execution_count": null,
   "metadata": {
    "collapsed": true,
    "scrolled": true
   },
   "outputs": [],
   "source": [
    "# title_font = {'fontname':'Arial', 'size':'25', 'color':'black', 'weight':'normal',\n",
    "#               'verticalalignment':'bottom'}\n",
    "\n",
    "# plt.figure(figsize=(7, 7))\n",
    "# axis_font = {'fontname':'Arial', 'size':'15'}\n",
    "\n",
    "# plt.scatter(Qlat[0][:simulationLength-1] * 40, chf.Streamflow_profile[int(dis.Chan_grid_num)-1][0:simulationLength-1] -\\\n",
    "#             chf.Streamflow_profile[0][:simulationLength-1], marker='o')\n",
    "\n",
    "# plt.xlabel(\"Lateral Drainage ($m^3$)\", **axis_font)\n",
    "# plt.ylabel(\"Net Subsurface Discharge ($m^3$)\", **axis_font)\n",
    "# plt.xticks(fontsize=13, rotation=0)\n",
    "# plt.yticks(fontsize=13, rotation=0)\n",
    "# plt.legend(prop={'size': 13}, frameon = False)\n",
    "# plt.show()"
   ]
  },
  {
   "cell_type": "markdown",
   "metadata": {},
   "source": [
    "### Streamflow hydrograph"
   ]
  },
  {
   "cell_type": "code",
   "execution_count": null,
   "metadata": {
    "collapsed": true
   },
   "outputs": [],
   "source": [
    "from pylab import figure, show, legend, ylabel\n",
    "\n",
    "Start_time = 1\n",
    "\n",
    "title_font = {'fontname':'Arial', 'size':'25', 'color':'black', 'weight':'normal',\n",
    "              'verticalalignment':'bottom'}\n",
    "\n",
    "axis_font = {'fontname':'Arial', 'size':'20'}\n",
    "\n",
    "## River stage time series\n",
    "# plt.title(\"River stage hourly time series\", **title_font)\n",
    "# plt.plot(chf.SH_inlet[0][Start_time:simulationLength-1], 'b-', label=\"Upstream (1st catchment)\")\n",
    "# plt.plot(chf.SH_outlet[0][Start_time:simulationLength-1], 'r-', label=\"Downstream (1th catchment)\")\n",
    "# Streamflow time series\n",
    "plt.plot(chf.Streamflow_profile[0][Start_time:simulationLength-1], 'b-', label=\"Upstream (1st catchment)\")\n",
    "plt.plot(chf.Streamflow_profile[int(dis.Chan_grid_num)-1][Start_time:simulationLength-1], 'r-', label=\"Downstream (1th catchment)\")\n",
    "## Streamflow difference (outlet-inlet) time series\n",
    "# plt.title(\"Streamflow difference hourly time series\", **title_font)\n",
    "# plt.plot(chf.Streamflow_profile[int(dis.Chan_grid_num)-1][Start_time:simulationLength-1] - \\\n",
    "#          chf.Streamflow_profile[0][Start_time:simulationLength-1], 'g-', label=\"Upstream (1st catchment)\")\n",
    "\n",
    "plt.xlabel(\"Time (hours)\", **axis_font)\n",
    "plt.ylabel(\"Streamflow difference ($m^3$)\", **axis_font)\n",
    "plt.xticks(fontsize=15, rotation=0)\n",
    "plt.yticks(fontsize=15, rotation=0)\n",
    "plt.legend(prop={'size': 16}, frameon = False)\n",
    "plt.show()"
   ]
  },
  {
   "cell_type": "markdown",
   "metadata": {},
   "source": [
    "## Head distribution of groundwater and river"
   ]
  },
  {
   "cell_type": "code",
   "execution_count": null,
   "metadata": {
    "collapsed": true
   },
   "outputs": [],
   "source": [
    "def Spatial_ascii(tt):\n",
    "\n",
    "    filename = 'Output/result_SH_profile_101_{0}.txt'.format(tt)\n",
    "\n",
    "    SH_0 = np.loadtxt(filename, delimiter='\\n')\n",
    "    \n",
    "    ncol = 21\n",
    "    nrow = 20\n",
    "    GWT_dist = np.zeros((nrow, ncol)) - 9999\n",
    "    \n",
    "    ## Making snapshot at time step tt (day)\n",
    "    for m in range(0, len(dis.Chan_indi)):\n",
    "        if m == 0:\n",
    "            for n in range(0, int(dis.Cat_grid_num[m])):\n",
    "                GWT_dist[int(dis.list_cat_x[m][n])][int(dis.list_cat_y[m][n])] = (dis.dem[int(dis.list_cat_x[m][n])][int(dis.list_cat_y[m][n])]\\\n",
    "              - Time_varying_depth[m][n][tt])\n",
    "            for nn in range(0, int(dis.Chan_grid_num[m])):\n",
    "                GWT_dist[int(dis.list_chan_x[m][nn])][int(dis.list_chan_y[m][nn])] = SH_0[nn]\n",
    "                \n",
    "    np.savetxt('Output/Ascii/Head_distribution_at_{0}hour.txt'.format(tt), GWT_dist)"
   ]
  },
  {
   "cell_type": "code",
   "execution_count": null,
   "metadata": {
    "collapsed": true
   },
   "outputs": [],
   "source": [
    "for n in range(6, 9):\n",
    "    Spatial_ascii(n)"
   ]
  },
  {
   "cell_type": "markdown",
   "metadata": {},
   "source": [
    "## GWL combined file"
   ]
  },
  {
   "cell_type": "code",
   "execution_count": null,
   "metadata": {
    "collapsed": true
   },
   "outputs": [],
   "source": [
    "# GWT_combined_1 = {}\n",
    "# # GWT_combined_2 = {}\n",
    "# # GWT_combined_3 = {}\n",
    "# # GWT_combined_4 = {}\n",
    "\n",
    "# NN = simulationLength\n",
    "# for n in range(1, NN):\n",
    "#     GWT_combined_1[n] = pd.read_csv('Output/result_GWT_0_{0}.txt'.format(n))\n",
    "# #     GWT_combined_2[n] = pd.read_csv('Output/result_GWT_1_{0}.txt'.format(n))\n",
    "# #     GWT_combined_3[n] = pd.read_csv('Output/result_GWT_2_{0}.txt'.format(n))\n",
    "# #     GWT_combined_4[n] = pd.read_csv('Output/result_GWT_3_{0}.txt'.format(n))\n",
    "\n",
    "# (pd.concat([GWT_combined_1[n] for n in range(1, NN)], axis=1)\n",
    "#   .to_csv('Output/Combined_GWL/GWL_combined_Recession3_A0.01_D6.txt', index=False, na_rep='N/A', sep=\"\\t\")\n",
    "# )\n",
    "# # (pd.concat([GWT_combined_2[n] for n in range(1, NN)], axis=1)\n",
    "# #   .to_csv('Output/Combined_GWL/GWL_combined.txt', index=False, na_rep='N/A', sep=\"\\t\")\n",
    "# # )\n",
    "# # (pd.concat([GWT_combined_3[n] for n in range(1, NN)], axis=1)\n",
    "# #   .to_csv('Output/Combined_GWL/GWL_combined_A0.01_D7.6_Cat3.txt', index=False, na_rep='N/A', sep=\"\\t\")\n",
    "# # )\n",
    "# # (pd.concat([GWT_combined_4[n] for n in range(1, NN)], axis=1)\n",
    "# #   .to_csv('Output/Combined_GWL/GWL_combined.txt', index=False, na_rep='N/A', sep=\"\\t\")\n",
    "# # )"
   ]
  },
  {
   "cell_type": "code",
   "execution_count": null,
   "metadata": {
    "collapsed": true
   },
   "outputs": [],
   "source": [
    "# (pd.concat([GWT_combined_1[n] for n in range(1, NN)], axis=1)\n",
    "#   .to_csv('Output/Combined_GWL/GWL_combined_Recession3_A0.01_D6.txt', index=False, na_rep='N/A', sep=\"\\t\")\n",
    "# )\n",
    "# # (pd.concat([GWT_combined_2[n] for n in range(1, NN)], axis=1)\n",
    "# #   .to_csv('Output/Combined_GWL/GWL_combined.txt', index=False, na_rep='N/A', sep=\"\\t\")\n",
    "# # )\n",
    "# # (pd.concat([GWT_combined_3[n] for n in range(1, NN)], axis=1)\n",
    "# #   .to_csv('Output/Combined_GWL/GWL_combined_A0.01_D7.6_Cat3.txt', index=False, na_rep='N/A', sep=\"\\t\")\n",
    "# # )\n",
    "# # (pd.concat([GWT_combined_4[n] for n in range(1, NN)], axis=1)\n",
    "# #   .to_csv('Output/Combined_GWL/GWL_combined.txt', index=False, na_rep='N/A', sep=\"\\t\")\n",
    "# # )"
   ]
  },
  {
   "cell_type": "code",
   "execution_count": null,
   "metadata": {
    "collapsed": true
   },
   "outputs": [],
   "source": []
  }
 ],
 "metadata": {
  "kernelspec": {
   "display_name": "Python 3 (ipykernel)",
   "language": "python",
   "name": "python3"
  },
  "language_info": {
   "codemirror_mode": {
    "name": "ipython",
    "version": 3
   },
   "file_extension": ".py",
   "mimetype": "text/x-python",
   "name": "python",
   "nbconvert_exporter": "python",
   "pygments_lexer": "ipython3",
   "version": "3.9.13"
  }
 },
 "nbformat": 4,
 "nbformat_minor": 2
}
