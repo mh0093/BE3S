{
 "cells": [
  {
   "cell_type": "code",
   "execution_count": 1,
   "metadata": {
    "collapsed": true
   },
   "outputs": [],
   "source": [
    "import import_ipynb\n",
    "import numpy as np\n",
    "import math as mt\n",
    "import pandas as pd\n",
    "import matplotlib.pyplot as plt"
   ]
  },
  {
   "cell_type": "code",
   "execution_count": 2,
   "metadata": {},
   "outputs": [
    {
     "name": "stdout",
     "output_type": "stream",
     "text": [
      "importing Jupyter notebook from DistanceMap.ipynb\n"
     ]
    }
   ],
   "source": [
    "import DistanceMap as dis"
   ]
  },
  {
   "cell_type": "code",
   "execution_count": 3,
   "metadata": {
    "collapsed": true
   },
   "outputs": [],
   "source": [
    "SH_atHW21 = pd.read_csv('Data/RS_forcing_b3.0.csv', header=0, parse_dates=[0], index_col=0)"
   ]
  },
  {
   "cell_type": "code",
   "execution_count": null,
   "metadata": {
    "collapsed": true
   },
   "outputs": [],
   "source": [
    "## Channel geometry\n",
    "Bw = 50.0 # Bottom width (unit: m)\n",
    "S0 = 0.00057 # Channel bottom slope (Channel length 24 km, Elevation diff: 0.013716)\n",
    "z = 100.0 # Channel side slope (unit: m)\n",
    "Geometry = 2.0\n",
    "\n",
    "## Manning's parameters\n",
    "n = 0.01 # Manning coefficient (unit: -)\n",
    "g = 9.8 # gravitational acceleration (unit: m/s2)\n",
    "Chan_grid_size = dis.resolution # Channel grid size (unit: m)"
   ]
  },
  {
   "cell_type": "code",
   "execution_count": null,
   "metadata": {
    "collapsed": true
   },
   "outputs": [],
   "source": [
    "simulation_period = 9999 ## To cover the entire simulation length in hour \n",
    "SH_inlet = np.zeros((len(dis.Chan_indi), simulation_period))\n",
    "SH_outlet = np.zeros((len(dis.Chan_indi), simulation_period))\n",
    "SH_profile = np.zeros(((int(sum(dis.Cat_grid_num))), simulation_period)) + SH_atHW21['River_stage'][1]\n",
    "Streamflow_inlet = np.zeros((len(dis.Chan_indi), simulation_period))\n",
    "Streamflow_outlet = np.zeros((len(dis.Chan_indi), simulation_period)) \n",
    "Streamflow_profile = np.zeros(((int(sum(dis.Cat_grid_num))), simulation_period))\n",
    "Flow_area = np.zeros((len(dis.Chan_indi), simulation_period)) \n",
    "Wr = np.zeros((len(dis.Chan_indi), simulation_period)) "
   ]
  },
  {
   "cell_type": "code",
   "execution_count": null,
   "metadata": {
    "collapsed": true
   },
   "outputs": [],
   "source": [
    "SW_nt = 360\n",
    "\n",
    "def LRMC(Qlat, SH_upstream, Chan_grid_num, Cat_num, hour, SW_tmax):\n",
    "    \n",
    "    ## SW_tmax: 3,600 seconds\n",
    "    str_dis = np.zeros((Chan_grid_num+1, SW_nt+1)) ## str_dis: stream discharge\n",
    "    dx = Chan_grid_size \n",
    "    \n",
    "    ## Manning's formulation\n",
    "    Area, Rad, mean_velocity = Manning(SH_upstream)\n",
    "    \n",
    "    ## Incremental travel time calculation\n",
    "    Chan_totalLength = 0\n",
    "    for i in range(0, Cat_num+1):\n",
    "        Chan_totalLength += int(dis.Chan_grid_num[i]) \n",
    "    \n",
    "    ## SW_tmax: 3,600 seconds (1 hour)\n",
    "    travel_time = mt.ceil(((Chan_totalLength * Chan_grid_size) / mean_velocity) / SW_tmax) # travel_time: hr\n",
    "\n",
    "    ## Ck the flood wave celerity of small waves in non-rectangular channels\n",
    "    Ck = pow(g * SH_upstream, 0.5)\n",
    "    \n",
    "    Fr_num = mean_velocity / Ck\n",
    "    \n",
    "    Flow_area[Cat_num][hour] = Area\n",
    "#     Wr[Cat_num][hour] = Bw + 2 * pow((pow(SH_upstream, 2) + pow(z, 2)), 0.5)\n",
    "    Wr[Cat_num][hour] = Bw + 2 * SH_upstream\n",
    "\n",
    "#     r = (1 - Rad * ((Wr[Cat_num, hour] - Wr[Cat_num, hour-1]) /\\\n",
    "#                  (Flow_area[Cat_num][hour] - Flow_area[Cat_num][hour-1])))\n",
    "    r = 0.5 ## Specified value for experimental cases\n",
    "    V = (2/3) * r * Fr_num\n",
    "#     print(\"Hour= %d, Fr_num= %.2f, Mean_velocity= %.2f, Ck= %.2f, Rad= %.2f, r= %.2f, V= %.2f\"\\\n",
    "#           %(hour, Fr_num, mean_velocity, Ck, Rad, (1 - Rad * ((Wr[Cat_num, hour] - Wr[Cat_num, hour-1]) /\\\n",
    "#                  (Flow_area[Cat_num][hour] - Flow_area[Cat_num][hour-1]))), V))\n",
    "\n",
    "#     Ck = pow((S0/n), 0.5) * (5/3) * pow(Rad, 2/3) - ((2/3) * pow(Rad, 5/3)) *\\\n",
    "#     (2 * pow((1 + pow(z, 2)) / (Bw + 2 * SH_upstream * z), 0.5)) \n",
    "#     v = Ck - mean_velocity # v= relative celerity of kinematic wave velocity   \n",
    "#     w = pow(g * SH_upstream, 0.5) # w= relative celerity of dynamic wave        \n",
    "#     V = v / w # V= Vedernikov number (0<V<1)\n",
    "    \n",
    "    ## Time-dependent LRMC parameters\n",
    "    C = Ck * ((SW_tmax / SW_nt) / dx) # C= Courant number, Ck= flood wave celerity, dx= channel length\n",
    "    q = (Area * mean_velocity) / Bw\n",
    "    ## D the cell Reynolds number (Ponce, 2001)\n",
    "    D = (q / (S0 * Ck * dx)) * (1 - pow(V, 2)) # q= unit-width discharge\n",
    "    C0 = (-1 + C + D) / (1 + C + D)\n",
    "    C1 = (1 + C - D) / (1 + C + D)\n",
    "    C2 = (1 - C + D) / (1 + C + D)\n",
    "    C3 = (2 * C) / (1 + C + D)\n",
    "#     print(\"C= %.2f, D= %.2f, V= %.2f, C3= %.2f, S0= %.2f, q= %.2f, 1-pow(V,2)= %.2f\" %(C, D, V, C3, S0, q, (1 - pow(V, 2))))\n",
    "\n",
    "    ## The topmost upstream boundary condition\n",
    "    str_dis[0, :] = Area * (mean_velocity * (3600)) # str_dis unit: m3/hr, mean_velocity: m/s, Area: m2\n",
    "    ## Initial condition streamflow \n",
    "    str_dis[:, 0] = Area * (mean_velocity * (3600))\n",
    "    \n",
    "    for t in range(0, SW_nt):\n",
    "        for i in range(0, Chan_grid_num):\n",
    "            str_dis[i+1, t+1] = (C0 * str_dis[i, t+1]) + (C1 * str_dis[i, t]) + (C2 * str_dis[i+1, t])\\\n",
    "            + (C3 * (Qlat)) # Qlat: m3/hr, str_dis: m3/hr\n",
    "    \n",
    "    for j in range(Chan_totalLength - Chan_grid_num, Chan_totalLength):\n",
    "#         r = pow(Bw, 2) + (4 * z * (str_dis[j-(Chan_totalLength - Chan_grid_num), SW_nt] / (mean_velocity * 3600)))\n",
    "        r = pow(Bw, 2) + (4 * (z * (((Geometry*j/Chan_totalLength)+1))) * (str_dis[j-(Chan_totalLength - Chan_grid_num), SW_nt] / (mean_velocity * 3600)))\n",
    "        ## SH_profile unit: m\n",
    "#         SH_profile[j][hour] = (((-(Bw * (1+(j+1)/Chan_totalLength))) + mt.sqrt(r)) / (2 * z))\n",
    "        SH_profile[j][hour] = (((-Bw) + mt.sqrt(r)) / (2 * (z * (((Geometry*j/Chan_totalLength)+1)))))\n",
    "\n",
    "        Streamflow_profile[j][hour] = str_dis[j-(Chan_totalLength - Chan_grid_num), SW_nt]\n",
    "    \n",
    "    SH_inlet[Cat_num][hour] = SH_profile[Chan_totalLength - Chan_grid_num][hour]\n",
    "    \n",
    "    if hour < int(travel_time):\n",
    "        SH_outlet[Cat_num][hour] = SH_atHW21['River_stage'][1]\n",
    "    elif hour >= int(travel_time):\n",
    "        SH_outlet[Cat_num][hour] = SH_profile[Chan_totalLength-1][hour-(int(travel_time))]\n",
    "    \n",
    "    return SH_inlet[Cat_num][hour], SH_outlet[Cat_num][hour], SH_profile[(Chan_totalLength - Chan_grid_num):Chan_totalLength, hour]"
   ]
  },
  {
   "cell_type": "code",
   "execution_count": null,
   "metadata": {
    "collapsed": true
   },
   "outputs": [],
   "source": [
    "### Manning approximation at the upstream node of the corresponding catchment \n",
    "def Manning(StreamHeight):\n",
    "    \n",
    "#     Area_chan = Bw * StreamHeight + z * pow(StreamHeight, 2)\n",
    "#     Area_chan = Bw * StreamHeight + (z*(1+1/sum(dis.Chan_grid_num[0:len(dis.Chan_indi)]))) * pow(StreamHeight, 2)\n",
    "    Area_chan = (2*z + Bw) * StreamHeight\n",
    "\n",
    "#     Wp = Bw + 2 * StreamHeight * pow((1 + pow(z, 2)), 0.5)\n",
    "#     Wp = Bw + 2 * StreamHeight * pow((1 + pow((z*(1+1/sum(dis.Chan_grid_num[0:len(dis.Chan_indi)]))), 2)), 0.5)\n",
    "    Wp = Bw + 2 * pow((pow(StreamHeight, 2) + pow(z, 2)), 0.5)\n",
    "\n",
    "    R = Area_chan / Wp\n",
    "    \n",
    "    ## u is the mean velocity of the normal steady flow\n",
    "    u = ((1/n) * pow(R, 2/3) * pow(S0, 1/2)) # u: m/s\n",
    "\n",
    "    return Area_chan, R, u "
   ]
  }
 ],
 "metadata": {
  "kernelspec": {
   "display_name": "Python 3",
   "language": "python",
   "name": "python3"
  },
  "language_info": {
   "codemirror_mode": {
    "name": "ipython",
    "version": 3
   },
   "file_extension": ".py",
   "mimetype": "text/x-python",
   "name": "python",
   "nbconvert_exporter": "python",
   "pygments_lexer": "ipython3",
   "version": "3.6.3"
  }
 },
 "nbformat": 4,
 "nbformat_minor": 2
}
